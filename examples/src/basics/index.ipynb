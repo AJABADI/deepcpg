{
 "cells": [
  {
   "cell_type": "markdown",
   "metadata": {},
   "source": [
    "# DeepCpG basics"
   ]
  },
  {
   "cell_type": "markdown",
   "metadata": {},
   "source": [
    "This tutorial describes how to create the input data for DeepCpG, train models, and use the trained models for imputation."
   ]
  },
  {
   "cell_type": "markdown",
   "metadata": {},
   "source": [
    "## Variables"
   ]
  },
  {
   "cell_type": "markdown",
   "metadata": {},
   "source": [
    "We first initialize some variables that will be used throughout the tutorial. `test_mode=1` should be used for testing purposes, which speeds up computations by only using a subset of the data. For real applications, `test_mode=0` should be used."
   ]
  },
  {
   "cell_type": "code",
   "execution_count": null,
   "metadata": {
    "collapsed": false
   },
   "outputs": [],
   "source": [
    "function run {\n",
    "  local cmd=$@\n",
    "  echo\n",
    "  echo \"#################################\"\n",
    "  echo $cmd\n",
    "  echo \"#################################\"\n",
    "  eval $cmd\n",
    "}\n",
    "\n",
    "test_mode=1 # set this variable to 0 for production\n",
    "data_dir=\"../../data\"\n",
    "cpg_dir=\"$data_dir/cpg\"\n",
    "dna_dir=\"$data_dir/dna/mm10\""
   ]
  },
  {
   "cell_type": "markdown",
   "metadata": {},
   "source": [
    "## Creating DeepCpG data files"
   ]
  },
  {
   "cell_type": "markdown",
   "metadata": {},
   "source": [
    "We first store the known CpG methylation states of each cell into a tab delimted file with the following columns:\n",
    "* Chromosome (without chr)\n",
    "* Position of the CpG site on the chromosome\n",
    "* Binary methylation state of the CpG sites (0=unmethylation, 1=methylated)\n",
    "\n",
    "CpG sites with a methylation rate between zero and one should be binarized by rounding. Filenames should correspond to cell names. \n",
    "\n",
    "Each position must point the cytosine residue of a CpG site (positions enumerated from 1). Otherwise `dcpg_data.py` will report warnings, e.g. if a wrong genome is used or CpG sites were not correctly aligned.\n",
    "\n",
    "For this tutorial we are using a subset of serum mouse embryonic stem cells from *Smallwood et al. (2014)*:"
   ]
  },
  {
   "cell_type": "code",
   "execution_count": null,
   "metadata": {
    "collapsed": false
   },
   "outputs": [],
   "source": [
    "ls $cpg_dir"
   ]
  },
  {
   "cell_type": "markdown",
   "metadata": {},
   "source": [
    "We can have a look at the methylation profile of cell 'BS27_1_SER':"
   ]
  },
  {
   "cell_type": "code",
   "execution_count": null,
   "metadata": {
    "collapsed": false
   },
   "outputs": [],
   "source": [
    "head \"$cpg_dir/BS27_1_SER.tsv\""
   ]
  },
  {
   "cell_type": "markdown",
   "metadata": {},
   "source": [
    "Since we are dealing with mouse cells, we are using the mm10 (GRCm38) mouse genome build:"
   ]
  },
  {
   "cell_type": "code",
   "execution_count": null,
   "metadata": {
    "collapsed": false
   },
   "outputs": [],
   "source": [
    "ls $dna_dir"
   ]
  },
  {
   "cell_type": "markdown",
   "metadata": {},
   "source": [
    "These files were downloaded by `setup.py`. Other genomes, e.g. human genome hg38, can be downloaded, for example, with the following command:\n",
    "\n",
    "```bash\n",
    "wget ftp://ftp.ensembl.org/pub/release-86/fasta/homo_sapiens/dna/Homo_sapiens.GRCh38.dna.chromosome.*.fa.gz\n",
    "```"
   ]
  },
  {
   "cell_type": "markdown",
   "metadata": {},
   "source": [
    "Now we can run `dcpg_data.py` to create the input data for DeepCpG. For testing purposes, we only consider a few CpG sites on chromosome 19:"
   ]
  },
  {
   "cell_type": "code",
   "execution_count": null,
   "metadata": {
    "collapsed": false
   },
   "outputs": [],
   "source": [
    "dcpg_data=\"./data\"\n",
    "cmd=\"dcpg_data.py\n",
    "    --cpg_profiles $cpg_dir/*.tsv\n",
    "    --dna_files $dna_dir\n",
    "    --out_dir $dcpg_data\n",
    "    --cpg_wlen 50\n",
    "    --dna_wlen 1001\n",
    "\"\n",
    "if [[ $test_mode -eq 1 ]]; then\n",
    "    cmd=\"$cmd\n",
    "        --chromo 19\n",
    "        --nb_sample 10000\n",
    "        \"\n",
    "fi\n",
    "run $cmd"
   ]
  },
  {
   "cell_type": "markdown",
   "metadata": {},
   "source": [
    "For each CpG site that is observed in at least one cell, this command extracts the 50 neighboring CpG sites (25 to the left and 25 to the right), and the 1000 bp long DNA sequence window centered on the CpG site. The command creates multiple HDF5 files with name `cX_FROM_TO.h5`, where `X` is the chromosome, and `FROM` and `TO` the index of CpG sites stored in the file:"
   ]
  },
  {
   "cell_type": "code",
   "execution_count": null,
   "metadata": {
    "collapsed": false
   },
   "outputs": [],
   "source": [
    "ls $dcpg_data"
   ]
  },
  {
   "cell_type": "markdown",
   "metadata": {},
   "source": [
    "## Model training "
   ]
  },
  {
   "cell_type": "markdown",
   "metadata": {},
   "source": [
    "We can now train models on the created data files. \n",
    "\n",
    "First, we train a model that only uses the neighboring methylation states of all cells, denoted as *CpG module* in the publication. \n",
    "\n",
    "For testing purposes, we use `--nb_train_sample` and `--nb_val_sample` to train only on 1000 CpG sites, and use `--nb_epoch 1` to only train for one epoch. In practice, one would train on more data and also for more epochs, e.g. 30, or use `--early_stopping 5` to stop training if the validation does not increase over five epochs. These parameters depend on the size of the training set and the complexity of the chosen model."
   ]
  },
  {
   "cell_type": "code",
   "execution_count": null,
   "metadata": {
    "collapsed": false
   },
   "outputs": [],
   "source": [
    "models_dir=\"./models\"\n",
    "mkdir -p $models_dir"
   ]
  },
  {
   "cell_type": "code",
   "execution_count": null,
   "metadata": {
    "collapsed": false
   },
   "outputs": [],
   "source": [
    "cmd=\"dcpg_train.py\n",
    "    $dcpg_data/c*.h5\n",
    "    --val_files $dcpg_data/c*.h5\n",
    "    --cpg_model RnnL1\n",
    "    --out_dir $models_dir/cpg\n",
    "    \"\n",
    "if [[ $test_mode -eq 1 ]]; then\n",
    "    cmd=\"$cmd\n",
    "        --nb_epoch 1\n",
    "        --nb_train_sample 1000\n",
    "        --nb_val_sample 1000\n",
    "    \"\n",
    "else\n",
    "    cmd=\"$cmd\n",
    "        --nb_epoch 30\n",
    "        --early_stopping 5\n",
    "        \"\n",
    "fi\n",
    "run $cmd"
   ]
  },
  {
   "cell_type": "markdown",
   "metadata": {},
   "source": [
    "Altough the model only uses neighboring CpG sites, it is already quite accurate in practice. To also make use of the DNA sequence, we train a `DNA module`:"
   ]
  },
  {
   "cell_type": "code",
   "execution_count": null,
   "metadata": {
    "collapsed": false
   },
   "outputs": [],
   "source": [
    "cmd=\"dcpg_train.py\n",
    "    $dcpg_data/c*.h5\n",
    "    --val_files $dcpg_data/c*.h5\n",
    "    --dna_model CnnL2h128\n",
    "    --out_dir $models_dir/dna\n",
    "    \"\n",
    "if [[ $test_mode -eq 1 ]]; then\n",
    "    cmd=\"$cmd\n",
    "        --nb_epoch 1\n",
    "        --nb_train_sample 1000\n",
    "        --nb_val_sample 1000\n",
    "    \"\n",
    "else\n",
    "    cmd=\"$cmd\n",
    "        --nb_epoch 30\n",
    "        --early_stopping 5\n",
    "        \"\n",
    "fi\n",
    "run $cmd"
   ]
  },
  {
   "cell_type": "markdown",
   "metadata": {},
   "source": [
    "Finally, we are combining both models by training a *joint module* without training the *CpG* and *DNA* module:"
   ]
  },
  {
   "cell_type": "code",
   "execution_count": null,
   "metadata": {
    "collapsed": false
   },
   "outputs": [],
   "source": [
    "cmd=\"dcpg_train.py\n",
    "    $dcpg_data/c*.h5\n",
    "    --val_files $dcpg_data/c*.h5\n",
    "    --dna_model $models_dir/dna\n",
    "    --cpg_model $models_dir/cpg\n",
    "    --joint_model JointL2h512\n",
    "    --train_models joint\n",
    "    --out_dir $models_dir/joint\n",
    "\"\n",
    "if [[ $test_mode -eq 1 ]]; then\n",
    "    cmd=\"$cmd\n",
    "        --nb_epoch 1\n",
    "        --nb_train_sample 1000\n",
    "        --nb_val_sample 1000\n",
    "    \"\n",
    "else\n",
    "    cmd=\"$cmd\n",
    "        --nb_epoch 10\n",
    "        --early_stopping 5\n",
    "        \"\n",
    "fi\n",
    "run $cmd"
   ]
  },
  {
   "cell_type": "markdown",
   "metadata": {},
   "source": [
    "## Model evaluation "
   ]
  },
  {
   "cell_type": "markdown",
   "metadata": {},
   "source": [
    "We are now using `dcpg_eval.py` to finally impute the missing methylation states and to evaluate prediction performance on the partially observed methylation states. We will use the trained joint module, but could of course also evaluate the CpG or DNA module only."
   ]
  },
  {
   "cell_type": "code",
   "execution_count": null,
   "metadata": {
    "collapsed": false
   },
   "outputs": [],
   "source": [
    "eval_dir=\"./eval\"\n",
    "mkdir -p $eval_dir\n",
    "\n",
    "cmd=\"dcpg_eval.py\n",
    "    $dcpg_data/c*.h5\n",
    "    --model_files $models_dir/joint\n",
    "    --out_data $eval_dir/data.h5\n",
    "    --out_report $eval_dir/report.tsv\n",
    "    \"\n",
    "if [[ $test_mode -eq 1 ]]; then\n",
    "    cmd=\"$cmd\n",
    "        --nb_sample 1000\n",
    "        \"\n",
    "fi\n",
    "run $cmd"
   ]
  },
  {
   "cell_type": "markdown",
   "metadata": {},
   "source": [
    "The imputed methylation profiles of all cells are stored in `data.h5`, and performance metrics in `report.tsv`"
   ]
  },
  {
   "cell_type": "code",
   "execution_count": null,
   "metadata": {
    "collapsed": false
   },
   "outputs": [],
   "source": [
    "cat $eval_dir/report.tsv"
   ]
  },
  {
   "cell_type": "code",
   "execution_count": null,
   "metadata": {
    "collapsed": false
   },
   "outputs": [],
   "source": [
    "h5ls -r $eval_dir/data.h5"
   ]
  },
  {
   "cell_type": "markdown",
   "metadata": {},
   "source": [
    "## Exporting methylation profiles"
   ]
  },
  {
   "cell_type": "markdown",
   "metadata": {},
   "source": [
    "Finally, we export imputed methylation profiles to gzip-compressed bedGraph files:"
   ]
  },
  {
   "cell_type": "code",
   "execution_count": null,
   "metadata": {
    "collapsed": false
   },
   "outputs": [],
   "source": [
    "cmd=\"dcpg_eval_export.py\n",
    "    $eval_dir/data.h5\n",
    "    -o ./eval\n",
    "    -f bedGraph\n",
    "\"\n",
    "eval $cmd"
   ]
  },
  {
   "cell_type": "code",
   "execution_count": null,
   "metadata": {
    "collapsed": false
   },
   "outputs": [],
   "source": [
    "ls ./eval"
   ]
  }
 ],
 "metadata": {
  "kernelspec": {
   "display_name": "Bash",
   "language": "bash",
   "name": "bash"
  },
  "language_info": {
   "codemirror_mode": "shell",
   "file_extension": ".sh",
   "mimetype": "text/x-sh",
   "name": "bash"
  }
 },
 "nbformat": 4,
 "nbformat_minor": 1
}
