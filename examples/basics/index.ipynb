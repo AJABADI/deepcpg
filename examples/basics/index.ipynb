{
 "cells": [
  {
   "cell_type": "markdown",
   "metadata": {},
   "source": [
    "# DeepCpG basics"
   ]
  },
  {
   "cell_type": "markdown",
   "metadata": {},
   "source": [
    "This tutorial describes how to create the input data for DeepCpG, train models, and use the trained models for imputation."
   ]
  },
  {
   "cell_type": "markdown",
   "metadata": {},
   "source": [
    "## Variables"
   ]
  },
  {
   "cell_type": "markdown",
   "metadata": {},
   "source": [
    "We first initialize some variables that will be used throughout the tutorial."
   ]
  },
  {
   "cell_type": "code",
   "execution_count": 1,
   "metadata": {
    "collapsed": false
   },
   "outputs": [
    {
     "name": "stdout",
     "output_type": "stream",
     "text": []
    }
   ],
   "source": [
    "data_dir=\"../data\"\n",
    "cpg_dir=\"${data_dir}/cpg\"\n",
    "dna_dir=\"$data_dir/dna/mm10\""
   ]
  },
  {
   "cell_type": "markdown",
   "metadata": {},
   "source": [
    "## Creating DeepCpG data files"
   ]
  },
  {
   "cell_type": "markdown",
   "metadata": {},
   "source": [
    "We first store the known CpG methylation states of each cell into a tab delimted file with the following columns:\n",
    "* Chromosome (without chr)\n",
    "* Position of the CpG site on the chromosome\n",
    "* Binary methylation state of the CpG sites (0=unmethylation, 1=methylated)\n",
    "\n",
    "CpG sites with a methylation rate between zero and one should be binarized by rounding. Filenames should correspond to cell names. \n",
    "\n",
    "For this tutorial we are using a subset of serum mouse embryonic stem cells from *Smallwood et al. (2014)*:"
   ]
  },
  {
   "cell_type": "code",
   "execution_count": 2,
   "metadata": {
    "collapsed": false
   },
   "outputs": [
    {
     "name": "stdout",
     "output_type": "stream",
     "text": [
      "BS27_1_SER.tsv BS27_3_SER.tsv BS27_5_SER.tsv BS27_6_SER.tsv BS27_8_SER.tsv\r\n"
     ]
    }
   ],
   "source": [
    "ls $cpg_dir"
   ]
  },
  {
   "cell_type": "markdown",
   "metadata": {},
   "source": [
    "We can have a look at the methylation profile of cell 'BS27_1_SER':"
   ]
  },
  {
   "cell_type": "code",
   "execution_count": 3,
   "metadata": {
    "collapsed": false
   },
   "outputs": [
    {
     "name": "stdout",
     "output_type": "stream",
     "text": [
      "1\t3000827\t1.0\r\n",
      "1\t3001007\t1.0\r\n",
      "1\t3001018\t1.0\r\n",
      "1\t3001277\t1.0\r\n",
      "1\t3001629\t1.0\r\n",
      "1\t3003226\t1.0\r\n",
      "1\t3003339\t1.0\r\n",
      "1\t3003379\t1.0\r\n",
      "1\t3006416\t1.0\r\n",
      "1\t3007580\t1.0\r\n"
     ]
    }
   ],
   "source": [
    "head \"$cpg_dir/BS27_1_SER.tsv\""
   ]
  },
  {
   "cell_type": "markdown",
   "metadata": {},
   "source": [
    "Since we are dealing with mouse cells, we are using the mm10 (GRCm38) mouse genome build:"
   ]
  },
  {
   "cell_type": "code",
   "execution_count": 4,
   "metadata": {
    "collapsed": false
   },
   "outputs": [
    {
     "name": "stdout",
     "output_type": "stream",
     "text": [
      "Mus_musculus.GRCm38.dna.chromosome.1.fa.gz\r\n",
      "Mus_musculus.GRCm38.dna.chromosome.10.fa.gz\r\n",
      "Mus_musculus.GRCm38.dna.chromosome.11.fa.gz\r\n",
      "Mus_musculus.GRCm38.dna.chromosome.12.fa.gz\r\n",
      "Mus_musculus.GRCm38.dna.chromosome.13.fa.gz\r\n",
      "Mus_musculus.GRCm38.dna.chromosome.14.fa.gz\r\n",
      "Mus_musculus.GRCm38.dna.chromosome.15.fa.gz\r\n",
      "Mus_musculus.GRCm38.dna.chromosome.16.fa.gz\r\n",
      "Mus_musculus.GRCm38.dna.chromosome.17.fa.gz\r\n",
      "Mus_musculus.GRCm38.dna.chromosome.18.fa.gz\r\n",
      "Mus_musculus.GRCm38.dna.chromosome.19.fa.gz\r\n",
      "Mus_musculus.GRCm38.dna.chromosome.2.fa.gz\r\n",
      "Mus_musculus.GRCm38.dna.chromosome.3.fa.gz\r\n",
      "Mus_musculus.GRCm38.dna.chromosome.4.fa.gz\r\n",
      "Mus_musculus.GRCm38.dna.chromosome.5.fa.gz\r\n",
      "Mus_musculus.GRCm38.dna.chromosome.6.fa.gz\r\n",
      "Mus_musculus.GRCm38.dna.chromosome.7.fa.gz\r\n",
      "Mus_musculus.GRCm38.dna.chromosome.8.fa.gz\r\n",
      "Mus_musculus.GRCm38.dna.chromosome.9.fa.gz\r\n",
      "Mus_musculus.GRCm38.dna.chromosome.MT.fa.gz\r\n",
      "Mus_musculus.GRCm38.dna.chromosome.X.fa.gz\r\n",
      "Mus_musculus.GRCm38.dna.chromosome.Y.fa.gz\r\n"
     ]
    }
   ],
   "source": [
    "ls $dna_dir"
   ]
  },
  {
   "cell_type": "markdown",
   "metadata": {},
   "source": [
    "These files were downloaded by `setup.py`. Other genomes, e.g. human genome hg38, can be downloaded, for example, with the following command:\n",
    "\n",
    "```bash\n",
    "wget ftp://ftp.ensembl.org/pub/release-86/fasta/homo_sapiens/dna/Homo_sapiens.GRCh38.dna.chromosome.*.fa.gz\n",
    "```"
   ]
  },
  {
   "cell_type": "markdown",
   "metadata": {},
   "source": [
    "Now we can run `dcpg_data.py` to create the input data for DeepCpG. For demostration purposes, we only consider chromosome 19:"
   ]
  },
  {
   "cell_type": "code",
   "execution_count": 5,
   "metadata": {
    "collapsed": false
   },
   "outputs": [
    {
     "name": "stdout",
     "output_type": "stream",
     "text": [
      "INFO (2017-01-29 19:08:55,693): Reading single-cell profiles ...\r\n",
      "INFO (2017-01-29 19:09:36,636): 306801 samples\r\n",
      "INFO (2017-01-29 19:09:36,647): --------------------------------------------------------------------------------\r\n",
      "INFO (2017-01-29 19:09:36,647): Chromosome 19 ...\r\n",
      "INFO (2017-01-29 19:09:37,147): 306801 / 306801 (100.0%) sites matched minimum coverage filter\r\n",
      "INFO (2017-01-29 19:09:38,357): Chunk \t1 / 10\r\n",
      "INFO (2017-01-29 19:09:38,393): Extracting DNA sequence windows ...\r\n",
      "INFO (2017-01-29 19:09:43,890): Extracting CpG neighbors ...\r\n",
      "INFO (2017-01-29 19:09:47,434): Chunk \t2 / 10\r\n",
      "INFO (2017-01-29 19:09:47,467): Extracting DNA sequence windows ...\r\n",
      "INFO (2017-01-29 19:09:53,141): Extracting CpG neighbors ...\r\n",
      "INFO (2017-01-29 19:09:56,670): Chunk \t3 / 10\r\n",
      "INFO (2017-01-29 19:09:56,706): Extracting DNA sequence windows ...\r\n",
      "INFO (2017-01-29 19:10:02,381): Extracting CpG neighbors ...\r\n",
      "INFO (2017-01-29 19:10:05,979): Chunk \t4 / 10\r\n",
      "INFO (2017-01-29 19:10:06,015): Extracting DNA sequence windows ...\r\n",
      "INFO (2017-01-29 19:10:11,709): Extracting CpG neighbors ...\r\n",
      "INFO (2017-01-29 19:10:15,235): Chunk \t5 / 10\r\n",
      "INFO (2017-01-29 19:10:15,273): Extracting DNA sequence windows ...\r\n",
      "INFO (2017-01-29 19:10:20,936): Extracting CpG neighbors ...\r\n",
      "INFO (2017-01-29 19:10:24,523): Chunk \t6 / 10\r\n",
      "INFO (2017-01-29 19:10:24,559): Extracting DNA sequence windows ...\r\n",
      "INFO (2017-01-29 19:10:30,135): Extracting CpG neighbors ...\r\n",
      "INFO (2017-01-29 19:10:33,745): Chunk \t7 / 10\r\n",
      "INFO (2017-01-29 19:10:33,781): Extracting DNA sequence windows ...\r\n",
      "INFO (2017-01-29 19:10:39,304): Extracting CpG neighbors ...\r\n",
      "INFO (2017-01-29 19:10:42,903): Chunk \t8 / 10\r\n",
      "INFO (2017-01-29 19:10:42,939): Extracting DNA sequence windows ...\r\n",
      "INFO (2017-01-29 19:10:48,601): Extracting CpG neighbors ...\r\n",
      "INFO (2017-01-29 19:10:52,287): Chunk \t9 / 10\r\n",
      "INFO (2017-01-29 19:10:52,322): Extracting DNA sequence windows ...\r\n",
      "INFO (2017-01-29 19:10:57,927): Extracting CpG neighbors ...\r\n",
      "INFO (2017-01-29 19:11:01,633): Chunk \t10 / 10\r\n",
      "INFO (2017-01-29 19:11:01,665): Extracting DNA sequence windows ...\r\n",
      "INFO (2017-01-29 19:11:03,763): Extracting CpG neighbors ...\r\n",
      "INFO (2017-01-29 19:11:05,245): Done!\r\n"
     ]
    }
   ],
   "source": [
    "dcpg_data=\"./data\"\n",
    "cmd=\"dcpg_data.py\n",
    "    --cpg_profiles $cpg_dir/*.tsv\n",
    "    --dna_files $dna_dir\n",
    "    --out_dir $dcpg_data\n",
    "    --cpg_wlen 50\n",
    "    --dna_wlen 1001\n",
    "    --chromo 19\n",
    "    \"\n",
    "eval $cmd"
   ]
  },
  {
   "cell_type": "markdown",
   "metadata": {},
   "source": [
    "For each CpG site that is observed in at least one cell, this command extracts the 50 neighboring CpG sites (25 to the left and 25 to the right), and the 1000 bp long DNA sequence window centered on the CpG site. The command creates multiple HDF5 files with name `cX_FROM_TO.h5`, where `X` is the chromosome, and `FROM` and `TO` the index of CpG sites stored in the file:"
   ]
  },
  {
   "cell_type": "code",
   "execution_count": 6,
   "metadata": {
    "collapsed": false
   },
   "outputs": [
    {
     "name": "stdout",
     "output_type": "stream",
     "text": [
      "c19_000000-032768.h5 c19_131072-163840.h5 c19_262144-294912.h5\r\n",
      "c19_032768-065536.h5 c19_163840-196608.h5 c19_294912-306801.h5\r\n",
      "c19_065536-098304.h5 c19_196608-229376.h5 pos.txt\r\n",
      "c19_098304-131072.h5 c19_229376-262144.h5\r\n"
     ]
    }
   ],
   "source": [
    "ls $dcpg_data"
   ]
  },
  {
   "cell_type": "markdown",
   "metadata": {},
   "source": [
    "## Model training "
   ]
  },
  {
   "cell_type": "markdown",
   "metadata": {},
   "source": [
    "We can now train models on the created data files. \n",
    "\n",
    "First, we train a model that only uses the neighboring methylation states of all cells, denoted as *CpG module* in the publication. For demonstration purposes, we only train for one epoch on 1000 CpG sites. In practice, one would train on all data until learning converges, if possible on one or more GPUs. "
   ]
  },
  {
   "cell_type": "code",
   "execution_count": 7,
   "metadata": {
    "collapsed": false
   },
   "outputs": [
    {
     "name": "stdout",
     "output_type": "stream",
     "text": []
    }
   ],
   "source": [
    "models_dir=\"./models\"\n",
    "mkdir -p $models_dir"
   ]
  },
  {
   "cell_type": "code",
   "execution_count": 8,
   "metadata": {
    "collapsed": false
   },
   "outputs": [
    {
     "name": "stdout",
     "output_type": "stream",
     "text": [
      "Using TensorFlow backend.\r\n",
      "INFO (2017-01-29 19:11:19,183): Building model ...\r\n",
      "Replicate names:\r\n",
      "BS27_1_SER, BS27_3_SER, BS27_5_SER, BS27_6_SER, BS27_8_SER\r\n",
      "\r\n",
      "INFO (2017-01-29 19:11:19,191): Building CpG model ...\r\n",
      "____________________________________________________________________________________________________\r\n",
      "Layer (type)                     Output Shape          Param #     Connected to                     \r\n",
      "====================================================================================================\r\n",
      "cpg/state/BS27_1_SER--BS27_3_SER (None, 5, 50)         0                                            \r\n",
      "____________________________________________________________________________________________________\r\n",
      "cpg/dist/BS27_1_SER--BS27_3_SER- (None, 5, 50)         0                                            \r\n",
      "____________________________________________________________________________________________________\r\n",
      "cpg/merge_1 (Merge)              (None, 5, 100)        0           cpg/state/BS27_1_SER--BS27_3_SER-\r\n",
      "                                                                   cpg/dist/BS27_1_SER--BS27_3_SER--\r\n",
      "____________________________________________________________________________________________________\r\n",
      "cpg/timedistributed_1 (TimeDistr (None, 5, 256)        25856       cpg/merge_1[0][0]                \r\n",
      "____________________________________________________________________________________________________\r\n",
      "cpg/bidirectional_1 (Bidirection (None, 512)           787968      cpg/timedistributed_1[0][0]      \r\n",
      "____________________________________________________________________________________________________\r\n",
      "cpg/dropout_1 (Dropout)          (None, 512)           0           cpg/bidirectional_1[0][0]        \r\n",
      "____________________________________________________________________________________________________\r\n",
      "cpg/BS27_1_SER (Dense)           (None, 1)             513         cpg/dropout_1[0][0]              \r\n",
      "____________________________________________________________________________________________________\r\n",
      "cpg/BS27_3_SER (Dense)           (None, 1)             513         cpg/dropout_1[0][0]              \r\n",
      "____________________________________________________________________________________________________\r\n",
      "cpg/BS27_5_SER (Dense)           (None, 1)             513         cpg/dropout_1[0][0]              \r\n",
      "____________________________________________________________________________________________________\r\n",
      "cpg/BS27_6_SER (Dense)           (None, 1)             513         cpg/dropout_1[0][0]              \r\n",
      "____________________________________________________________________________________________________\r\n",
      "cpg/BS27_8_SER (Dense)           (None, 1)             513         cpg/dropout_1[0][0]              \r\n",
      "====================================================================================================\r\n",
      "Total params: 816389\r\n",
      "____________________________________________________________________________________________________\r\n",
      "INFO (2017-01-29 19:11:19,705): Computing output statistics ...\r\n",
      "Output statistics:\r\n",
      "          name | nb_tot | nb_obs | frac_obs | mean |  var\r\n",
      "---------------------------------------------------------\r\n",
      "cpg/BS27_1_SER |   1000 |    392 |     0.39 | 0.86 | 0.12\r\n",
      "cpg/BS27_3_SER |   1000 |    290 |     0.29 | 0.92 | 0.08\r\n",
      "cpg/BS27_5_SER |   1000 |    434 |     0.43 | 0.70 | 0.21\r\n",
      "cpg/BS27_6_SER |   1000 |    249 |     0.25 | 0.68 | 0.22\r\n",
      "cpg/BS27_8_SER |   1000 |    408 |     0.41 | 0.84 | 0.13\r\n",
      "\r\n",
      "Class weights:\r\n",
      "cpg/BS27_1_SER | cpg/BS27_3_SER | cpg/BS27_5_SER | cpg/BS27_6_SER | cpg/BS27_8_SER\r\n",
      "----------------------------------------------------------------------------------\r\n",
      "        0=0.86 |         0=0.92 |         0=0.70 |         0=0.68 |         0=0.84\r\n",
      "        1=0.14 |         1=0.08 |         1=0.30 |         1=0.32 |         1=0.16\r\n",
      "\r\n",
      "INFO (2017-01-29 19:11:19,938): Loading data ...\r\n",
      "INFO (2017-01-29 19:11:19,939): Initializing callbacks ...\r\n",
      "INFO (2017-01-29 19:11:19,939): Training model ...\r\n",
      "\r\n",
      "Training samples: 1000\r\n",
      "Validation samples: 1000\r\n",
      "Epochs: 1\r\n",
      "Learning rate: 0.0001\r\n",
      "====================================================================================================\r\n",
      "Epoch 1/1\r\n",
      "====================================================================================================\r\n",
      "done (%) | time |   loss |    acc | cpg/BS27_3_SER_loss | cpg/BS27_6_SER_loss | cpg/BS27_1_SER_loss | cpg/BS27_5_SER_loss | cpg/BS27_8_SER_loss | cpg/BS27_6_SER_acc | cpg/BS27_8_SER_acc | cpg/BS27_1_SER_acc | cpg/BS27_3_SER_acc | cpg/BS27_5_SER_acc\r\n",
      "--------------------------------------------------------------------------------------------------------------------------------------------------------------------------------------------------------------------------------------------------------\r\n",
      "    12.8 |  0.0 | 2.9620 | 0.5195 |              0.0626 |              0.1064 |              0.1097 |              0.1577 |              0.0650 |             0.5610 |             0.2500 |             0.6102 |             0.5000 |             0.6765\r\n",
      "    25.6 |  0.0 | 2.9809 | 0.4636 |              0.0572 |              0.1187 |              0.1040 |              0.1628 |              0.0793 |             0.4188 |             0.3087 |             0.5218 |             0.4352 |             0.6337\r\n",
      "    38.4 |  0.0 | 2.9746 | 0.4507 |              0.0574 |              0.1126 |              0.1028 |              0.1639 |              0.0807 |             0.3968 |             0.3095 |             0.5078 |             0.3892 |             0.6500\r\n",
      "    51.2 |  0.0 | 2.9976 | 0.4531 |              0.0657 |              0.1211 |              0.1075 |              0.1695 |              0.0782 |             0.4067 |             0.3224 |             0.4686 |             0.4139 |             0.6541\r\n",
      "    64.0 |  0.0 | 2.9942 | 0.4477 |              0.0685 |              0.1159 |              0.1081 |              0.1648 |              0.0830 |             0.4143 |             0.3234 |             0.4362 |             0.4397 |             0.6251\r\n",
      "    76.8 |  0.0 | 2.9928 | 0.4388 |              0.0704 |              0.1150 |              0.1077 |              0.1644 |              0.0830 |             0.4244 |             0.3130 |             0.4115 |             0.4476 |             0.5977\r\n",
      "    89.6 |  0.0 | 2.9759 | 0.4234 |              0.0686 |              0.1094 |              0.1070 |              0.1607 |              0.0795 |             0.4179 |             0.3061 |             0.4021 |             0.4300 |             0.5607\r\n",
      "   100.0 |  0.0 | 2.9823 | 0.4290 |              0.0691 |              0.1102 |              0.1091 |              0.1644 |              0.0803 |             0.4357 |             0.3230 |             0.4006 |             0.4391 |             0.5470\r\n",
      "Epoch 00000: val_loss improved from inf to 1.62982, saving model to ./models/cpg/model_weights_val.h5\r\n",
      "\r\n",
      " split |   loss |    acc | cpg/BS27_3_SER_loss | cpg/BS27_5_SER_loss | cpg/BS27_8_SER_loss | cpg/BS27_6_SER_loss | cpg/BS27_1_SER_loss | cpg/BS27_8_SER_acc | cpg/BS27_1_SER_acc | cpg/BS27_6_SER_acc | cpg/BS27_3_SER_acc | cpg/BS27_5_SER_acc\r\n",
      "-----------------------------------------------------------------------------------------------------------------------------------------------------------------------------------------------------------------------------------------------\r\n",
      " train | 2.9823 | 0.4290 |              0.0691 |              0.1644 |              0.0803 |              0.1102 |              0.1091 |             0.3230 |             0.4006 |             0.4357 |             0.4391 |             0.5470\r\n",
      "   val | 1.6298 | 0.1914 |              0.3649 |              0.3466 |              0.3676 |              0.1996 |              0.3511 |             0.1458 |             0.1130 |             0.3264 |             0.0891 |             0.2826\r\n",
      "====================================================================================================\r\n",
      "\r\n",
      "Training set performance:\r\n",
      "  loss |    acc | cpg/BS27_3_SER_loss | cpg/BS27_5_SER_loss | cpg/BS27_8_SER_loss | cpg/BS27_6_SER_loss | cpg/BS27_1_SER_loss | cpg/BS27_8_SER_acc | cpg/BS27_1_SER_acc | cpg/BS27_6_SER_acc | cpg/BS27_3_SER_acc | cpg/BS27_5_SER_acc\r\n",
      "--------------------------------------------------------------------------------------------------------------------------------------------------------------------------------------------------------------------------------------\r\n",
      "2.9823 | 0.4290 |              0.0691 |              0.1644 |              0.0803 |              0.1102 |              0.1091 |             0.3230 |             0.4006 |             0.4357 |             0.4391 |             0.5470\r\n",
      "\r\n",
      "Validation set performance:\r\n",
      "  loss |    acc | cpg/BS27_3_SER_loss | cpg/BS27_8_SER_loss | cpg/BS27_1_SER_loss | cpg/BS27_5_SER_loss | cpg/BS27_6_SER_loss | cpg/BS27_6_SER_acc | cpg/BS27_3_SER_acc | cpg/BS27_5_SER_acc | cpg/BS27_8_SER_acc | cpg/BS27_1_SER_acc\r\n",
      "--------------------------------------------------------------------------------------------------------------------------------------------------------------------------------------------------------------------------------------\r\n",
      "1.6298 | 0.1914 |              0.3649 |              0.3676 |              0.3511 |              0.3466 |              0.1996 |             0.3264 |             0.0891 |             0.2826 |             0.1458 |             0.1130\r\n",
      "INFO (2017-01-29 19:11:30,436): Done!\r\n",
      "Exception ignored in: <bound method BaseSession.__del__ of <tensorflow.python.client.session.Session object at 0x11bcb4080>>\r\n",
      "Traceback (most recent call last):\r\n",
      "  File \"/opt/local/Library/Frameworks/Python.framework/Versions/3.5/lib/python3.5/site-packages/tensorflow/python/client/session.py\", line 522, in __del__\r\n",
      "  File \"/opt/local/Library/Frameworks/Python.framework/Versions/3.5/lib/python3.5/site-packages/tensorflow/python/client/session.py\", line 518, in close\r\n",
      "  File \"/opt/local/Library/Frameworks/Python.framework/Versions/3.5/lib/python3.5/contextlib.py\", line 133, in helper\r\n",
      "TypeError: 'NoneType' object is not callable\r\n"
     ]
    }
   ],
   "source": [
    "cmd=\"dcpg_train.py\n",
    "    $dcpg_data/c*.h5\n",
    "    --val_files $dcpg_data/c*.h5\n",
    "    --cpg_model RnnL1\n",
    "    --out_dir $models_dir/cpg\n",
    "    --nb_epoch 1\n",
    "    --nb_train_sample 1000\n",
    "    --nb_val_sample 1000\n",
    "    \"\n",
    "eval $cmd"
   ]
  },
  {
   "cell_type": "markdown",
   "metadata": {},
   "source": [
    "Altough the model only uses neighboring CpG sites, it is already quite accurate in practice. To also make use of the DNA sequence, we train a `DNA module`:"
   ]
  },
  {
   "cell_type": "code",
   "execution_count": 9,
   "metadata": {
    "collapsed": false
   },
   "outputs": [
    {
     "name": "stdout",
     "output_type": "stream",
     "text": [
      "Using TensorFlow backend.\r\n",
      "INFO (2017-01-29 19:11:34,497): Building model ...\r\n",
      "INFO (2017-01-29 19:11:34,500): Building DNA model ...\r\n",
      "____________________________________________________________________________________________________\r\n",
      "Layer (type)                     Output Shape          Param #     Connected to                     \r\n",
      "====================================================================================================\r\n",
      "dna (InputLayer)                 (None, 1001, 4)       0                                            \r\n",
      "____________________________________________________________________________________________________\r\n",
      "dna/convolution1d_1 (Convolution (None, 991, 128)      5760        dna[0][0]                        \r\n",
      "____________________________________________________________________________________________________\r\n",
      "dna/activation_1 (Activation)    (None, 991, 128)      0           dna/convolution1d_1[0][0]        \r\n",
      "____________________________________________________________________________________________________\r\n",
      "dna/maxpooling1d_1 (MaxPooling1D (None, 247, 128)      0           dna/activation_1[0][0]           \r\n",
      "____________________________________________________________________________________________________\r\n",
      "dna/convolution1d_2 (Convolution (None, 245, 256)      98560       dna/maxpooling1d_1[0][0]         \r\n",
      "____________________________________________________________________________________________________\r\n",
      "dna/activation_2 (Activation)    (None, 245, 256)      0           dna/convolution1d_2[0][0]        \r\n",
      "____________________________________________________________________________________________________\r\n",
      "dna/maxpooling1d_2 (MaxPooling1D (None, 122, 256)      0           dna/activation_2[0][0]           \r\n",
      "____________________________________________________________________________________________________\r\n",
      "dna/flatten_1 (Flatten)          (None, 31232)         0           dna/maxpooling1d_2[0][0]         \r\n",
      "____________________________________________________________________________________________________\r\n",
      "dna/dense_1 (Dense)              (None, 128)           3997824     dna/flatten_1[0][0]              \r\n",
      "____________________________________________________________________________________________________\r\n",
      "dna/activation_3 (Activation)    (None, 128)           0           dna/dense_1[0][0]                \r\n",
      "____________________________________________________________________________________________________\r\n",
      "dna/dropout_1 (Dropout)          (None, 128)           0           dna/activation_3[0][0]           \r\n",
      "____________________________________________________________________________________________________\r\n",
      "cpg/BS27_1_SER (Dense)           (None, 1)             129         dna/dropout_1[0][0]              \r\n",
      "____________________________________________________________________________________________________\r\n",
      "cpg/BS27_3_SER (Dense)           (None, 1)             129         dna/dropout_1[0][0]              \r\n",
      "____________________________________________________________________________________________________\r\n",
      "cpg/BS27_5_SER (Dense)           (None, 1)             129         dna/dropout_1[0][0]              \r\n",
      "____________________________________________________________________________________________________\r\n",
      "cpg/BS27_6_SER (Dense)           (None, 1)             129         dna/dropout_1[0][0]              \r\n",
      "____________________________________________________________________________________________________\r\n",
      "cpg/BS27_8_SER (Dense)           (None, 1)             129         dna/dropout_1[0][0]              \r\n",
      "====================================================================================================\r\n",
      "Total params: 4102789\r\n",
      "____________________________________________________________________________________________________\r\n",
      "INFO (2017-01-29 19:11:34,633): Computing output statistics ...\r\n",
      "Output statistics:\r\n",
      "          name | nb_tot | nb_obs | frac_obs | mean |  var\r\n",
      "---------------------------------------------------------\r\n",
      "cpg/BS27_1_SER |   1000 |    392 |     0.39 | 0.86 | 0.12\r\n",
      "cpg/BS27_3_SER |   1000 |    290 |     0.29 | 0.92 | 0.08\r\n",
      "cpg/BS27_5_SER |   1000 |    434 |     0.43 | 0.70 | 0.21\r\n",
      "cpg/BS27_6_SER |   1000 |    249 |     0.25 | 0.68 | 0.22\r\n",
      "cpg/BS27_8_SER |   1000 |    408 |     0.41 | 0.84 | 0.13\r\n",
      "\r\n",
      "Class weights:\r\n",
      "cpg/BS27_1_SER | cpg/BS27_3_SER | cpg/BS27_5_SER | cpg/BS27_6_SER | cpg/BS27_8_SER\r\n",
      "----------------------------------------------------------------------------------\r\n",
      "        0=0.86 |         0=0.92 |         0=0.70 |         0=0.68 |         0=0.84\r\n",
      "        1=0.14 |         1=0.08 |         1=0.30 |         1=0.32 |         1=0.16\r\n",
      "\r\n",
      "INFO (2017-01-29 19:11:34,868): Loading data ...\r\n",
      "INFO (2017-01-29 19:11:34,870): Initializing callbacks ...\r\n",
      "INFO (2017-01-29 19:11:34,870): Training model ...\r\n",
      "\r\n",
      "Training samples: 1000\r\n",
      "Validation samples: 1000\r\n",
      "Epochs: 1\r\n",
      "Learning rate: 0.0001\r\n",
      "====================================================================================================\r\n",
      "Epoch 1/1\r\n",
      "====================================================================================================\r\n",
      "done (%) | time |   loss |    acc | cpg/BS27_3_SER_loss | cpg/BS27_8_SER_loss | cpg/BS27_1_SER_loss | cpg/BS27_5_SER_loss | cpg/BS27_6_SER_loss | cpg/BS27_8_SER_acc | cpg/BS27_3_SER_acc | cpg/BS27_5_SER_acc | cpg/BS27_6_SER_acc | cpg/BS27_1_SER_acc\r\n",
      "--------------------------------------------------------------------------------------------------------------------------------------------------------------------------------------------------------------------------------------------------------\r\n",
      "    12.8 |  0.0 | 3.4556 | 0.4980 |              0.0894 |              0.1194 |              0.1364 |              0.1730 |              0.1042 |             0.4286 |             0.5263 |             0.4203 |             0.5854 |             0.5294\r\n",
      "    25.6 |  0.1 | 3.4027 | 0.4392 |              0.0861 |              0.1055 |              0.1117 |              0.1758 |              0.1101 |             0.3632 |             0.4774 |             0.4244 |             0.5308 |             0.4001\r\n",
      "    38.4 |  0.1 | 3.3939 | 0.4332 |              0.0833 |              0.1017 |              0.1141 |              0.1830 |              0.1180 |             0.3691 |             0.4556 |             0.4519 |             0.5171 |             0.3723\r\n",
      "    51.2 |  0.1 | 3.3869 | 0.4385 |              0.0826 |              0.1052 |              0.1214 |              0.1848 |              0.1189 |             0.3749 |             0.4589 |             0.4730 |             0.5072 |             0.3784\r\n",
      "    64.0 |  0.1 | 3.3521 | 0.4206 |              0.0780 |              0.0973 |              0.1206 |              0.1844 |              0.1174 |             0.3380 |             0.4242 |             0.4645 |             0.5174 |             0.3590\r\n",
      "    76.8 |  0.1 | 3.3189 | 0.4150 |              0.0761 |              0.0930 |              0.1148 |              0.1819 |              0.1180 |             0.3405 |             0.4141 |             0.4666 |             0.5274 |             0.3265\r\n",
      "    89.6 |  0.2 | 3.3004 | 0.4196 |              0.0771 |              0.0944 |              0.1135 |              0.1815 |              0.1179 |             0.3342 |             0.4242 |             0.4745 |             0.5357 |             0.3293\r\n",
      "   100.0 |  0.2 | 3.2805 | 0.4195 |              0.0792 |              0.0936 |              0.1132 |              0.1785 |              0.1160 |             0.3361 |             0.4247 |             0.4750 |             0.5320 |             0.3297\r\n",
      "Epoch 00000: val_loss improved from inf to 1.30973, saving model to ./models/dna/model_weights_val.h5\r\n",
      "\r\n",
      " split |   loss |    acc | cpg/BS27_8_SER_loss | cpg/BS27_1_SER_loss | cpg/BS27_5_SER_loss | cpg/BS27_6_SER_loss | cpg/BS27_3_SER_loss | cpg/BS27_3_SER_acc | cpg/BS27_6_SER_acc | cpg/BS27_8_SER_acc | cpg/BS27_5_SER_acc | cpg/BS27_1_SER_acc\r\n",
      "-----------------------------------------------------------------------------------------------------------------------------------------------------------------------------------------------------------------------------------------------\r\n",
      " train | 3.2805 | 0.4195 |              0.0936 |              0.1132 |              0.1785 |              0.1160 |              0.0792 |             0.4247 |             0.5320 |             0.3361 |             0.4750 |             0.3297\r\n",
      "   val | 1.3097 | 0.1914 |              0.3065 |              0.2935 |              0.3180 |              0.1736 |              0.2181 |             0.0891 |             0.3264 |             0.1458 |             0.2826 |             0.1130\r\n",
      "====================================================================================================\r\n",
      "\r\n",
      "Training set performance:\r\n",
      "  loss |    acc | cpg/BS27_8_SER_loss | cpg/BS27_1_SER_loss | cpg/BS27_5_SER_loss | cpg/BS27_6_SER_loss | cpg/BS27_3_SER_loss | cpg/BS27_3_SER_acc | cpg/BS27_6_SER_acc | cpg/BS27_8_SER_acc | cpg/BS27_5_SER_acc | cpg/BS27_1_SER_acc\r\n",
      "--------------------------------------------------------------------------------------------------------------------------------------------------------------------------------------------------------------------------------------\r\n",
      "3.2805 | 0.4195 |              0.0936 |              0.1132 |              0.1785 |              0.1160 |              0.0792 |             0.4247 |             0.5320 |             0.3361 |             0.4750 |             0.3297\r\n",
      "\r\n",
      "Validation set performance:\r\n",
      "  loss |    acc | cpg/BS27_6_SER_loss | cpg/BS27_5_SER_loss | cpg/BS27_1_SER_loss | cpg/BS27_8_SER_loss | cpg/BS27_3_SER_loss | cpg/BS27_1_SER_acc | cpg/BS27_6_SER_acc | cpg/BS27_3_SER_acc | cpg/BS27_8_SER_acc | cpg/BS27_5_SER_acc\r\n",
      "--------------------------------------------------------------------------------------------------------------------------------------------------------------------------------------------------------------------------------------\r\n",
      "1.3097 | 0.1914 |              0.1736 |              0.3180 |              0.2935 |              0.3065 |              0.2181 |             0.1130 |             0.3264 |             0.0891 |             0.1458 |             0.2826\r\n",
      "INFO (2017-01-29 19:11:53,112): Done!\r\n"
     ]
    }
   ],
   "source": [
    "cmd=\"dcpg_train.py\n",
    "    $dcpg_data/c*.h5\n",
    "    --val_files $dcpg_data/c*.h5\n",
    "    --dna_model CnnL2h128\n",
    "    --out_dir $models_dir/dna\n",
    "    --nb_epoch 1\n",
    "    --nb_train_sample 1000\n",
    "    --nb_val_sample 1000\n",
    "    \"\n",
    "eval $cmd"
   ]
  },
  {
   "cell_type": "markdown",
   "metadata": {},
   "source": [
    "Finally, we are combining both models by training a *joint module* without training the *CpG* and *DNA* module:"
   ]
  },
  {
   "cell_type": "code",
   "execution_count": 10,
   "metadata": {
    "collapsed": false
   },
   "outputs": [
    {
     "name": "stdout",
     "output_type": "stream",
     "text": [
      "Using TensorFlow backend.\r\n",
      "INFO (2017-01-29 19:12:04,308): Building model ...\r\n",
      "INFO (2017-01-29 19:12:04,310): Loading existing DNA model ...\r\n",
      "INFO (2017-01-29 19:12:04,311): Using model files ./models/dna/model.json ./models/dna/model_weights_val.h5\r\n",
      "Replicate names:\r\n",
      "BS27_1_SER, BS27_3_SER, BS27_5_SER, BS27_6_SER, BS27_8_SER\r\n",
      "\r\n",
      "INFO (2017-01-29 19:12:04,619): Loading existing CpG model ...\r\n",
      "INFO (2017-01-29 19:12:04,619): Using model files ./models/cpg/model.json ./models/cpg/model_weights_val.h5\r\n",
      "INFO (2017-01-29 19:12:05,375): Joining models ...\r\n",
      "____________________________________________________________________________________________________\r\n",
      "Layer (type)                     Output Shape          Param #     Connected to                     \r\n",
      "====================================================================================================\r\n",
      "dna (InputLayer)                 (None, 1001, 4)       0                                            \r\n",
      "____________________________________________________________________________________________________\r\n",
      "dna/convolution1d_1 (Convolution (None, 991, 128)      5760        dna[0][0]                        \r\n",
      "____________________________________________________________________________________________________\r\n",
      "dna/activation_1 (Activation)    (None, 991, 128)      0           dna/convolution1d_1[0][0]        \r\n",
      "____________________________________________________________________________________________________\r\n",
      "dna/maxpooling1d_1 (MaxPooling1D (None, 247, 128)      0           dna/activation_1[0][0]           \r\n",
      "____________________________________________________________________________________________________\r\n",
      "dna/convolution1d_2 (Convolution (None, 245, 256)      98560       dna/maxpooling1d_1[0][0]         \r\n",
      "____________________________________________________________________________________________________\r\n",
      "dna/activation_2 (Activation)    (None, 245, 256)      0           dna/convolution1d_2[0][0]        \r\n",
      "____________________________________________________________________________________________________\r\n",
      "dna/maxpooling1d_2 (MaxPooling1D (None, 122, 256)      0           dna/activation_2[0][0]           \r\n",
      "____________________________________________________________________________________________________\r\n",
      "cpg/state/BS27_1_SER--BS27_3_SER (None, 5, 50)         0                                            \r\n",
      "____________________________________________________________________________________________________\r\n",
      "cpg/dist/BS27_1_SER--BS27_3_SER- (None, 5, 50)         0                                            \r\n",
      "____________________________________________________________________________________________________\r\n",
      "dna/flatten_1 (Flatten)          (None, 31232)         0           dna/maxpooling1d_2[0][0]         \r\n",
      "____________________________________________________________________________________________________\r\n",
      "cpg/merge_1 (Merge)              (None, 5, 100)        0           cpg/state/BS27_1_SER--BS27_3_SER-\r\n",
      "                                                                   cpg/dist/BS27_1_SER--BS27_3_SER--\r\n",
      "____________________________________________________________________________________________________\r\n",
      "dna/dense_1 (Dense)              (None, 128)           3997824     dna/flatten_1[0][0]              \r\n",
      "____________________________________________________________________________________________________\r\n",
      "cpg/timedistributed_1 (TimeDistr (None, 5, 256)        25856       cpg/merge_1[0][0]                \r\n",
      "____________________________________________________________________________________________________\r\n",
      "dna/activation_3 (Activation)    (None, 128)           0           dna/dense_1[0][0]                \r\n",
      "____________________________________________________________________________________________________\r\n",
      "cpg/bidirectional_1 (Bidirection (None, 512)           787968      cpg/timedistributed_1[0][0]      \r\n",
      "____________________________________________________________________________________________________\r\n",
      "dna/dropout_1 (Dropout)          (None, 128)           0           dna/activation_3[0][0]           \r\n",
      "____________________________________________________________________________________________________\r\n",
      "cpg/dropout_1 (Dropout)          (None, 512)           0           cpg/bidirectional_1[0][0]        \r\n",
      "____________________________________________________________________________________________________\r\n",
      "merge_1 (Merge)                  (None, 640)           0           dna/dropout_1[0][0]              \r\n",
      "                                                                   cpg/dropout_1[0][0]              \r\n",
      "____________________________________________________________________________________________________\r\n",
      "joint/dense_1 (Dense)            (None, 512)           328192      merge_1[0][0]                    \r\n",
      "____________________________________________________________________________________________________\r\n",
      "joint/activation_1 (Activation)  (None, 512)           0           joint/dense_1[0][0]              \r\n",
      "____________________________________________________________________________________________________\r\n",
      "joint/dropout_1 (Dropout)        (None, 512)           0           joint/activation_1[0][0]         \r\n",
      "____________________________________________________________________________________________________\r\n",
      "joint/dense_2 (Dense)            (None, 512)           262656      joint/dropout_1[0][0]            \r\n",
      "____________________________________________________________________________________________________\r\n",
      "joint/activation_2 (Activation)  (None, 512)           0           joint/dense_2[0][0]              \r\n",
      "____________________________________________________________________________________________________\r\n",
      "joint/dropout_2 (Dropout)        (None, 512)           0           joint/activation_2[0][0]         \r\n",
      "____________________________________________________________________________________________________\r\n",
      "cpg/BS27_1_SER (Dense)           (None, 1)             513         joint/dropout_2[0][0]            \r\n",
      "____________________________________________________________________________________________________\r\n",
      "cpg/BS27_3_SER (Dense)           (None, 1)             513         joint/dropout_2[0][0]            \r\n",
      "____________________________________________________________________________________________________\r\n",
      "cpg/BS27_5_SER (Dense)           (None, 1)             513         joint/dropout_2[0][0]            \r\n",
      "____________________________________________________________________________________________________\r\n",
      "cpg/BS27_6_SER (Dense)           (None, 1)             513         joint/dropout_2[0][0]            \r\n",
      "____________________________________________________________________________________________________\r\n",
      "cpg/BS27_8_SER (Dense)           (None, 1)             513         joint/dropout_2[0][0]            \r\n",
      "====================================================================================================\r\n",
      "Total params: 5509381\r\n",
      "____________________________________________________________________________________________________\r\n",
      "Layer trainability:\r\n",
      "                layer | trainable\r\n",
      "---------------------------------\r\n",
      "  dna/convolution1d_1 |     False\r\n",
      "     dna/activation_1 |     False\r\n",
      "   dna/maxpooling1d_1 |     False\r\n",
      "  dna/convolution1d_2 |     False\r\n",
      "     dna/activation_2 |     False\r\n",
      "   dna/maxpooling1d_2 |     False\r\n",
      "        dna/flatten_1 |     False\r\n",
      "          dna/dense_1 |     False\r\n",
      "cpg/timedistributed_1 |     False\r\n",
      "     dna/activation_3 |     False\r\n",
      "  cpg/bidirectional_1 |     False\r\n",
      "        dna/dropout_1 |     False\r\n",
      "        cpg/dropout_1 |     False\r\n",
      "        joint/dense_1 |      True\r\n",
      "   joint/activation_1 |      True\r\n",
      "      joint/dropout_1 |      True\r\n",
      "        joint/dense_2 |      True\r\n",
      "   joint/activation_2 |      True\r\n",
      "      joint/dropout_2 |      True\r\n",
      "\r\n",
      "INFO (2017-01-29 19:12:05,441): Computing output statistics ...\r\n",
      "Output statistics:\r\n",
      "          name | nb_tot | nb_obs | frac_obs | mean |  var\r\n",
      "---------------------------------------------------------\r\n",
      "cpg/BS27_1_SER |   1000 |    392 |     0.39 | 0.86 | 0.12\r\n",
      "cpg/BS27_3_SER |   1000 |    290 |     0.29 | 0.92 | 0.08\r\n",
      "cpg/BS27_5_SER |   1000 |    434 |     0.43 | 0.70 | 0.21\r\n",
      "cpg/BS27_6_SER |   1000 |    249 |     0.25 | 0.68 | 0.22\r\n",
      "cpg/BS27_8_SER |   1000 |    408 |     0.41 | 0.84 | 0.13\r\n",
      "\r\n",
      "Class weights:\r\n",
      "cpg/BS27_1_SER | cpg/BS27_3_SER | cpg/BS27_5_SER | cpg/BS27_6_SER | cpg/BS27_8_SER\r\n",
      "----------------------------------------------------------------------------------\r\n",
      "        0=0.86 |         0=0.92 |         0=0.70 |         0=0.68 |         0=0.84\r\n",
      "        1=0.14 |         1=0.08 |         1=0.30 |         1=0.32 |         1=0.16\r\n",
      "\r\n",
      "INFO (2017-01-29 19:12:05,770): Loading data ...\r\n",
      "INFO (2017-01-29 19:12:05,772): Initializing callbacks ...\r\n",
      "INFO (2017-01-29 19:12:05,772): Training model ...\r\n",
      "\r\n",
      "Training samples: 1000\r\n",
      "Validation samples: 1000\r\n",
      "Epochs: 1\r\n",
      "Learning rate: 0.0001\r\n",
      "====================================================================================================\r\n",
      "Epoch 1/1\r\n",
      "====================================================================================================\r\n",
      "done (%) | time |   loss |    acc | cpg/BS27_8_SER_loss | cpg/BS27_3_SER_loss | cpg/BS27_6_SER_loss | cpg/BS27_1_SER_loss | cpg/BS27_5_SER_loss | cpg/BS27_8_SER_acc | cpg/BS27_5_SER_acc | cpg/BS27_6_SER_acc | cpg/BS27_3_SER_acc | cpg/BS27_1_SER_acc\r\n",
      "--------------------------------------------------------------------------------------------------------------------------------------------------------------------------------------------------------------------------------------------------------\r\n",
      "    12.8 |  0.0 | 7.8631 | 0.5661 |              0.1080 |              0.0736 |              0.1378 |              0.1088 |              0.1799 |             0.6800 |             0.5000 |             0.5000 |             0.4839 |             0.6667\r\n",
      "    25.6 |  0.0 | 7.8320 | 0.5186 |              0.0963 |              0.0635 |              0.1210 |              0.1176 |              0.1823 |             0.6594 |             0.5035 |             0.5000 |             0.3982 |             0.5316\r\n",
      "    38.4 |  0.0 | 7.7973 | 0.4929 |              0.0863 |              0.0594 |              0.1166 |              0.1148 |              0.1726 |             0.6919 |             0.4732 |             0.4419 |             0.3937 |             0.4636\r\n",
      "    51.2 |  0.1 | 7.7895 | 0.5015 |              0.0878 |              0.0587 |              0.1166 |              0.1105 |              0.1721 |             0.7050 |             0.4951 |             0.4651 |             0.4064 |             0.4359\r\n",
      "    64.0 |  0.1 | 7.7863 | 0.5013 |              0.0887 |              0.0634 |              0.1120 |              0.1062 |              0.1760 |             0.7223 |             0.5027 |             0.4554 |             0.4225 |             0.4037\r\n",
      "    76.8 |  0.1 | 7.7877 | 0.5044 |              0.0921 |              0.0655 |              0.1108 |              0.1092 |              0.1739 |             0.7152 |             0.4984 |             0.4629 |             0.4378 |             0.4074\r\n",
      "    89.6 |  0.1 | 7.7799 | 0.4990 |              0.0921 |              0.0644 |              0.1091 |              0.1085 |              0.1735 |             0.6928 |             0.4935 |             0.4701 |             0.4315 |             0.4069\r\n",
      "   100.0 |  0.1 | 7.7780 | 0.5014 |              0.0929 |              0.0650 |              0.1097 |              0.1082 |              0.1729 |             0.6728 |             0.5030 |             0.4777 |             0.4467 |             0.4071\r\n",
      "Epoch 00000: val_loss improved from inf to 1.66802, saving model to ./models/joint/model_weights_val.h5\r\n",
      "\r\n",
      " split |   loss |    acc | cpg/BS27_3_SER_loss | cpg/BS27_8_SER_loss | cpg/BS27_5_SER_loss | cpg/BS27_6_SER_loss | cpg/BS27_1_SER_loss | cpg/BS27_8_SER_acc | cpg/BS27_3_SER_acc | cpg/BS27_1_SER_acc | cpg/BS27_6_SER_acc | cpg/BS27_5_SER_acc\r\n",
      "-----------------------------------------------------------------------------------------------------------------------------------------------------------------------------------------------------------------------------------------------\r\n",
      " train | 7.7780 | 0.5014 |              0.0650 |              0.0929 |              0.1729 |              0.1097 |              0.1082 |             0.6728 |             0.4467 |             0.4071 |             0.4777 |             0.5030\r\n",
      "   val | 1.6680 | 0.1917 |              0.3941 |              0.3078 |              0.3479 |              0.2017 |              0.4164 |             0.1477 |             0.0891 |             0.1130 |             0.3264 |             0.2826\r\n",
      "====================================================================================================\r\n",
      "\r\n",
      "Training set performance:\r\n",
      "  loss |    acc | cpg/BS27_3_SER_loss | cpg/BS27_8_SER_loss | cpg/BS27_5_SER_loss | cpg/BS27_6_SER_loss | cpg/BS27_1_SER_loss | cpg/BS27_8_SER_acc | cpg/BS27_3_SER_acc | cpg/BS27_1_SER_acc | cpg/BS27_6_SER_acc | cpg/BS27_5_SER_acc\r\n",
      "--------------------------------------------------------------------------------------------------------------------------------------------------------------------------------------------------------------------------------------\r\n",
      "7.7780 | 0.5014 |              0.0650 |              0.0929 |              0.1729 |              0.1097 |              0.1082 |             0.6728 |             0.4467 |             0.4071 |             0.4777 |             0.5030\r\n",
      "\r\n",
      "Validation set performance:\r\n",
      "  loss |    acc | cpg/BS27_5_SER_loss | cpg/BS27_1_SER_loss | cpg/BS27_3_SER_loss | cpg/BS27_8_SER_loss | cpg/BS27_6_SER_loss | cpg/BS27_1_SER_acc | cpg/BS27_8_SER_acc | cpg/BS27_6_SER_acc | cpg/BS27_3_SER_acc | cpg/BS27_5_SER_acc\r\n",
      "--------------------------------------------------------------------------------------------------------------------------------------------------------------------------------------------------------------------------------------\r\n",
      "1.6680 | 0.1917 |              0.3479 |              0.4164 |              0.3941 |              0.3078 |              0.2017 |             0.1130 |             0.1477 |             0.3264 |             0.0891 |             0.2826\r\n",
      "INFO (2017-01-29 19:12:24,603): Done!\r\n",
      "Exception ignored in: <bound method BaseSession.__del__ of <tensorflow.python.client.session.Session object at 0x115787e48>>\r\n",
      "Traceback (most recent call last):\r\n",
      "  File \"/opt/local/Library/Frameworks/Python.framework/Versions/3.5/lib/python3.5/site-packages/tensorflow/python/client/session.py\", line 522, in __del__\r\n",
      "  File \"/opt/local/Library/Frameworks/Python.framework/Versions/3.5/lib/python3.5/site-packages/tensorflow/python/client/session.py\", line 518, in close\r\n",
      "  File \"/opt/local/Library/Frameworks/Python.framework/Versions/3.5/lib/python3.5/contextlib.py\", line 133, in helper\r\n",
      "TypeError: 'NoneType' object is not callable\r\n"
     ]
    }
   ],
   "source": [
    "cmd=\"dcpg_train.py\n",
    "    $dcpg_data/c*.h5\n",
    "    --val_files $dcpg_data/c*.h5\n",
    "    --dna_model $models_dir/dna\n",
    "    --cpg_model $models_dir/cpg\n",
    "    --joint_model JointL2h512\n",
    "    --train_models joint\n",
    "    --out_dir $models_dir/joint\n",
    "    --nb_epoch 1\n",
    "    --nb_train_sample 1000\n",
    "    --nb_val_sample 1000\n",
    "    \"\n",
    "eval $cmd"
   ]
  },
  {
   "cell_type": "markdown",
   "metadata": {},
   "source": [
    "## Model evaluation "
   ]
  },
  {
   "cell_type": "markdown",
   "metadata": {},
   "source": [
    "We are now using `dcpg_eval.py` to finally impute the missing methylation states and to evaluate prediction performance on the partially observed methylation states. We will use the trained joint module, but could of course also evaluate the CpG or DNA module only."
   ]
  },
  {
   "cell_type": "code",
   "execution_count": 11,
   "metadata": {
    "collapsed": false
   },
   "outputs": [
    {
     "name": "stdout",
     "output_type": "stream",
     "text": [
      "Using TensorFlow backend.\r\n",
      "INFO (2017-01-29 19:12:28,866): Loading model ...\r\n",
      "INFO (2017-01-29 19:12:29,829): Loading data ...\r\n",
      "INFO (2017-01-29 19:12:29,830): Predicting ...\r\n",
      "INFO (2017-01-29 19:12:29,865):  128/1000 (12.8%)\r\n",
      "INFO (2017-01-29 19:12:30,341):  256/1000 (25.6%)\r\n",
      "INFO (2017-01-29 19:12:30,794):  384/1000 (38.4%)\r\n",
      "INFO (2017-01-29 19:12:31,262):  512/1000 (51.2%)\r\n",
      "INFO (2017-01-29 19:12:31,725):  640/1000 (64.0%)\r\n",
      "INFO (2017-01-29 19:12:32,157):  768/1000 (76.8%)\r\n",
      "INFO (2017-01-29 19:12:32,588):  896/1000 (89.6%)\r\n",
      "INFO (2017-01-29 19:12:33,032): 1000/1000 (100.0%)\r\n",
      "/opt/local/Library/Frameworks/Python.framework/Versions/3.5/lib/python3.5/site-packages/sklearn/metrics/classification.py:1074: UndefinedMetricWarning: F-score is ill-defined and being set to 0.0 due to no predicted samples.\r\n",
      "  'precision', 'predicted', average, warn_for)\r\n",
      "           output       auc       acc       tpr  tnr        f1       mcc      n\r\n",
      "4  cpg/BS27_8_SER  0.663961  0.161765  0.002915  1.0  0.005814  0.021578  408.0\r\n",
      "2  cpg/BS27_5_SER  0.545429  0.304147  0.000000  1.0  0.000000  0.000000  434.0\r\n",
      "1  cpg/BS27_3_SER  0.489505  0.082759  0.000000  1.0  0.000000  0.000000  290.0\r\n",
      "3  cpg/BS27_6_SER  0.447580  0.317269  0.000000  1.0  0.000000  0.000000  249.0\r\n",
      "0  cpg/BS27_1_SER  0.341040  0.142857  0.000000  1.0  0.000000  0.000000  392.0\r\n",
      "INFO (2017-01-29 19:12:33,564): Done!\r\n",
      "Exception ignored in: <bound method BaseSession.__del__ of <tensorflow.python.client.session.Session object at 0x10f747e48>>\r\n",
      "Traceback (most recent call last):\r\n",
      "  File \"/opt/local/Library/Frameworks/Python.framework/Versions/3.5/lib/python3.5/site-packages/tensorflow/python/client/session.py\", line 522, in __del__\r\n",
      "  File \"/opt/local/Library/Frameworks/Python.framework/Versions/3.5/lib/python3.5/site-packages/tensorflow/python/client/session.py\", line 518, in close\r\n",
      "AttributeError: 'NoneType' object has no attribute 'raise_exception_on_not_ok_status'\r\n"
     ]
    }
   ],
   "source": [
    "eval_dir=\"./eval\"\n",
    "mkdir -p $eval_dir\n",
    "\n",
    "cmd=\"dcpg_eval.py\n",
    "    $dcpg_data/c*.h5\n",
    "    --model_files $models_dir/joint\n",
    "    --out_data $eval_dir/data.h5\n",
    "    --out_report $eval_dir/report.tsv\n",
    "    --nb_sample 1000\n",
    "    \"\n",
    "eval $cmd"
   ]
  },
  {
   "cell_type": "markdown",
   "metadata": {},
   "source": [
    "The imputed methylation profiles of all cells are stored in `data.h5`, and performance metrics in `report.tsv`"
   ]
  },
  {
   "cell_type": "code",
   "execution_count": 12,
   "metadata": {
    "collapsed": false
   },
   "outputs": [
    {
     "name": "stdout",
     "output_type": "stream",
     "text": [
      "metric\toutput\tvalue\r\n",
      "acc\tcpg/BS27_3_SER\t0.08275862068965517\r\n",
      "acc\tcpg/BS27_1_SER\t0.14285714285714285\r\n",
      "acc\tcpg/BS27_8_SER\t0.16176470588235295\r\n",
      "acc\tcpg/BS27_5_SER\t0.30414746543778803\r\n",
      "acc\tcpg/BS27_6_SER\t0.3172690763052209\r\n",
      "auc\tcpg/BS27_1_SER\t0.34103954081632654\r\n",
      "auc\tcpg/BS27_6_SER\t0.4475800446760983\r\n",
      "auc\tcpg/BS27_3_SER\t0.4895050125313284\r\n",
      "auc\tcpg/BS27_5_SER\t0.5454294601645595\r\n",
      "auc\tcpg/BS27_8_SER\t0.6639605292666516\r\n",
      "f1\tcpg/BS27_6_SER\t0.0\r\n",
      "f1\tcpg/BS27_5_SER\t0.0\r\n",
      "f1\tcpg/BS27_1_SER\t0.0\r\n",
      "f1\tcpg/BS27_3_SER\t0.0\r\n",
      "f1\tcpg/BS27_8_SER\t0.005813953488372092\r\n",
      "mcc\tcpg/BS27_6_SER\t0.0\r\n",
      "mcc\tcpg/BS27_5_SER\t0.0\r\n",
      "mcc\tcpg/BS27_1_SER\t0.0\r\n",
      "mcc\tcpg/BS27_3_SER\t0.0\r\n",
      "mcc\tcpg/BS27_8_SER\t0.02157806086076016\r\n",
      "n\tcpg/BS27_6_SER\t249.0\r\n",
      "n\tcpg/BS27_3_SER\t290.0\r\n",
      "n\tcpg/BS27_1_SER\t392.0\r\n",
      "n\tcpg/BS27_8_SER\t408.0\r\n",
      "n\tcpg/BS27_5_SER\t434.0\r\n",
      "tnr\tcpg/BS27_6_SER\t1.0\r\n",
      "tnr\tcpg/BS27_5_SER\t1.0\r\n",
      "tnr\tcpg/BS27_1_SER\t1.0\r\n",
      "tnr\tcpg/BS27_8_SER\t1.0\r\n",
      "tnr\tcpg/BS27_3_SER\t1.0\r\n",
      "tpr\tcpg/BS27_6_SER\t0.0\r\n",
      "tpr\tcpg/BS27_5_SER\t0.0\r\n",
      "tpr\tcpg/BS27_1_SER\t0.0\r\n",
      "tpr\tcpg/BS27_3_SER\t0.0\r\n",
      "tpr\tcpg/BS27_8_SER\t0.0029154518950437317\r\n"
     ]
    }
   ],
   "source": [
    "cat eval/report.tsv"
   ]
  },
  {
   "cell_type": "code",
   "execution_count": 13,
   "metadata": {
    "collapsed": false
   },
   "outputs": [
    {
     "name": "stdout",
     "output_type": "stream",
     "text": [
      "/                        Group\r\n",
      "/chromo                  Dataset {1000}\r\n",
      "/outputs                 Group\r\n",
      "/outputs/cpg             Group\r\n",
      "/outputs/cpg/BS27_1_SER  Dataset {1000}\r\n",
      "/outputs/cpg/BS27_3_SER  Dataset {1000}\r\n",
      "/outputs/cpg/BS27_5_SER  Dataset {1000}\r\n",
      "/outputs/cpg/BS27_6_SER  Dataset {1000}\r\n",
      "/outputs/cpg/BS27_8_SER  Dataset {1000}\r\n",
      "/pos                     Dataset {1000}\r\n",
      "/preds                   Group\r\n",
      "/preds/cpg               Group\r\n",
      "/preds/cpg/BS27_1_SER    Dataset {1000}\r\n",
      "/preds/cpg/BS27_3_SER    Dataset {1000}\r\n",
      "/preds/cpg/BS27_5_SER    Dataset {1000}\r\n",
      "/preds/cpg/BS27_6_SER    Dataset {1000}\r\n",
      "/preds/cpg/BS27_8_SER    Dataset {1000}\r\n"
     ]
    }
   ],
   "source": [
    "h5ls -r eval/data.h5"
   ]
  }
 ],
 "metadata": {
  "kernelspec": {
   "display_name": "Bash",
   "language": "bash",
   "name": "bash"
  },
  "language_info": {
   "codemirror_mode": "shell",
   "file_extension": ".sh",
   "mimetype": "text/x-sh",
   "name": "bash"
  }
 },
 "nbformat": 4,
 "nbformat_minor": 1
}
