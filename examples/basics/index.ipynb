{
 "cells": [
  {
   "cell_type": "markdown",
   "metadata": {},
   "source": [
    "# DeepCpG basics"
   ]
  },
  {
   "cell_type": "markdown",
   "metadata": {},
   "source": [
    "This tutorial describes how to create the input data for DeepCpG, train models, and use the trained models for imputation."
   ]
  },
  {
   "cell_type": "markdown",
   "metadata": {},
   "source": [
    "## Variables"
   ]
  },
  {
   "cell_type": "markdown",
   "metadata": {},
   "source": [
    "These are variables that point to data that are required for this tutorial."
   ]
  },
  {
   "cell_type": "code",
   "execution_count": 4,
   "metadata": {
    "collapsed": false
   },
   "outputs": [
    {
     "name": "stdout",
     "output_type": "stream",
     "text": []
    }
   ],
   "source": [
    "data_dir=\"../data\"\n",
    "cpg_dir=\"${data_dir}/cpg\"\n",
    "dna_dir=\"$data_dir/dna/mm10\""
   ]
  },
  {
   "cell_type": "markdown",
   "metadata": {},
   "source": [
    "## Creating DeepCpG data files"
   ]
  },
  {
   "cell_type": "markdown",
   "metadata": {},
   "source": [
    "We first store the known CpG methylation states of each cell into a tab delimted file with the following columns:\n",
    "* Chromosome (without chr)\n",
    "* Position of the CpG site on the chromosome\n",
    "* Binary methylation state of the CpG sites (0=unmethylation, 1=methylated)\n",
    "\n",
    "CpG sites with a methylation rate between zero and one should be binarized by rounding. Filenames should correspond to cell names. \n",
    "\n",
    "For this tutorial we are using a subset of serum mouse embryonic stem cells from *Smallwood et al. (2014)*:"
   ]
  },
  {
   "cell_type": "code",
   "execution_count": 5,
   "metadata": {
    "collapsed": false
   },
   "outputs": [
    {
     "name": "stdout",
     "output_type": "stream",
     "text": [
      "BS27_1_SER.tsv BS27_3_SER.tsv BS27_5_SER.tsv BS27_6_SER.tsv BS27_8_SER.tsv\r\n"
     ]
    }
   ],
   "source": [
    "ls $cpg_dir"
   ]
  },
  {
   "cell_type": "markdown",
   "metadata": {},
   "source": [
    "We can have a look at the methylation profile of cell 'BS27_1_SER':"
   ]
  },
  {
   "cell_type": "code",
   "execution_count": 6,
   "metadata": {
    "collapsed": false
   },
   "outputs": [
    {
     "name": "stdout",
     "output_type": "stream",
     "text": [
      "head: ../data/cpg/BS27_1_SER.bed: No such file or directory\r\n"
     ]
    }
   ],
   "source": [
    "head \"$cpg_dir/BS27_1_SER.bed\""
   ]
  },
  {
   "cell_type": "markdown",
   "metadata": {},
   "source": [
    "Since we are dealing with mouse cells, we are using the mm10 (GRCm38) mouse genome build:"
   ]
  },
  {
   "cell_type": "code",
   "execution_count": 7,
   "metadata": {
    "collapsed": false
   },
   "outputs": [
    {
     "name": "stdout",
     "output_type": "stream",
     "text": [
      "Mus_musculus.GRCm38.dna.chromosome.1.fa.gz\r\n",
      "Mus_musculus.GRCm38.dna.chromosome.10.fa.gz\r\n",
      "Mus_musculus.GRCm38.dna.chromosome.11.fa.gz\r\n",
      "Mus_musculus.GRCm38.dna.chromosome.12.fa.gz\r\n",
      "Mus_musculus.GRCm38.dna.chromosome.13.fa.gz\r\n",
      "Mus_musculus.GRCm38.dna.chromosome.14.fa.gz\r\n",
      "Mus_musculus.GRCm38.dna.chromosome.15.fa.gz\r\n",
      "Mus_musculus.GRCm38.dna.chromosome.16.fa.gz\r\n",
      "Mus_musculus.GRCm38.dna.chromosome.17.fa.gz\r\n",
      "Mus_musculus.GRCm38.dna.chromosome.18.fa.gz\r\n",
      "Mus_musculus.GRCm38.dna.chromosome.19.fa.gz\r\n",
      "Mus_musculus.GRCm38.dna.chromosome.2.fa.gz\r\n",
      "Mus_musculus.GRCm38.dna.chromosome.3.fa.gz\r\n",
      "Mus_musculus.GRCm38.dna.chromosome.4.fa.gz\r\n",
      "Mus_musculus.GRCm38.dna.chromosome.5.fa.gz\r\n",
      "Mus_musculus.GRCm38.dna.chromosome.6.fa.gz\r\n",
      "Mus_musculus.GRCm38.dna.chromosome.7.fa.gz\r\n",
      "Mus_musculus.GRCm38.dna.chromosome.8.fa.gz\r\n",
      "Mus_musculus.GRCm38.dna.chromosome.9.fa.gz\r\n",
      "Mus_musculus.GRCm38.dna.chromosome.MT.fa.gz\r\n",
      "Mus_musculus.GRCm38.dna.chromosome.X.fa.gz\r\n",
      "Mus_musculus.GRCm38.dna.chromosome.Y.fa.gz\r\n"
     ]
    }
   ],
   "source": [
    "ls $dna_dir"
   ]
  },
  {
   "cell_type": "markdown",
   "metadata": {},
   "source": [
    "These files were downloaded by `setup.py`. Other genomes, e.g. human genome hg38, can be downloaded, for example, with the following command:\n",
    "\n",
    "```bash\n",
    "wget ftp://ftp.ensembl.org/pub/release-86/fasta/homo_sapiens/dna/Homo_sapiens.GRCh38.dna.chromosome.*.fa.gz\n",
    "```"
   ]
  },
  {
   "cell_type": "markdown",
   "metadata": {},
   "source": [
    "Now we can run `dcpg_data.py` to create the input data for DeepCpG. For demostration purposes, we only consider chromosome 19:"
   ]
  },
  {
   "cell_type": "code",
   "execution_count": 9,
   "metadata": {
    "collapsed": false
   },
   "outputs": [
    {
     "name": "stdout",
     "output_type": "stream",
     "text": [
      "INFO (2017-01-25 14:46:52,096): Reading single-cell profiles ...\r\n",
      "INFO (2017-01-25 14:47:02,613): 306801 samples\r\n",
      "INFO (2017-01-25 14:47:02,651): --------------------------------------------------------------------------------\r\n",
      "INFO (2017-01-25 14:47:02,651): Chromosome 19 ...\r\n",
      "INFO (2017-01-25 14:47:03,172): 306801 / 306801 (100.0%) sites matched minimum coverage filter\r\n",
      "INFO (2017-01-25 14:47:04,431): Chunk \t1 / 10\r\n",
      "INFO (2017-01-25 14:47:04,463): Extracting DNA sequence windows ...\r\n",
      "INFO (2017-01-25 14:47:10,437): Extracting CpG neighbors ...\r\n",
      "INFO (2017-01-25 14:47:14,091): Chunk \t2 / 10\r\n",
      "INFO (2017-01-25 14:47:14,099): Extracting DNA sequence windows ...\r\n",
      "INFO (2017-01-25 14:47:20,189): Extracting CpG neighbors ...\r\n",
      "INFO (2017-01-25 14:47:23,996): Chunk \t3 / 10\r\n",
      "INFO (2017-01-25 14:47:24,004): Extracting DNA sequence windows ...\r\n",
      "INFO (2017-01-25 14:47:30,030): Extracting CpG neighbors ...\r\n",
      "INFO (2017-01-25 14:47:33,635): Chunk \t4 / 10\r\n",
      "INFO (2017-01-25 14:47:33,643): Extracting DNA sequence windows ...\r\n",
      "INFO (2017-01-25 14:47:39,445): Extracting CpG neighbors ...\r\n",
      "INFO (2017-01-25 14:47:43,009): Chunk \t5 / 10\r\n",
      "INFO (2017-01-25 14:47:43,016): Extracting DNA sequence windows ...\r\n",
      "INFO (2017-01-25 14:47:48,854): Extracting CpG neighbors ...\r\n",
      "INFO (2017-01-25 14:47:52,452): Chunk \t6 / 10\r\n",
      "INFO (2017-01-25 14:47:52,460): Extracting DNA sequence windows ...\r\n",
      "INFO (2017-01-25 14:47:58,269): Extracting CpG neighbors ...\r\n",
      "INFO (2017-01-25 14:48:01,950): Chunk \t7 / 10\r\n",
      "INFO (2017-01-25 14:48:01,957): Extracting DNA sequence windows ...\r\n",
      "INFO (2017-01-25 14:48:07,790): Extracting CpG neighbors ...\r\n",
      "INFO (2017-01-25 14:48:11,347): Chunk \t8 / 10\r\n",
      "INFO (2017-01-25 14:48:11,355): Extracting DNA sequence windows ...\r\n",
      "INFO (2017-01-25 14:48:17,257): Extracting CpG neighbors ...\r\n",
      "INFO (2017-01-25 14:48:20,906): Chunk \t9 / 10\r\n",
      "INFO (2017-01-25 14:48:20,913): Extracting DNA sequence windows ...\r\n",
      "INFO (2017-01-25 14:48:26,804): Extracting CpG neighbors ...\r\n",
      "INFO (2017-01-25 14:48:30,418): Chunk \t10 / 10\r\n",
      "INFO (2017-01-25 14:48:30,423): Extracting DNA sequence windows ...\r\n",
      "INFO (2017-01-25 14:48:32,596): Extracting CpG neighbors ...\r\n",
      "INFO (2017-01-25 14:48:34,056): Done!\r\n"
     ]
    }
   ],
   "source": [
    "dcpg_data=\"./data\"\n",
    "cmd=\"dcpg_data.py\n",
    "    --cpg_profiles $cpg_dir/*.tsv\n",
    "    --dna_files $dna_dir\n",
    "    --out_dir $dcpg_data\n",
    "    --cpg_wlen 50\n",
    "    --dna_wlen 1001\n",
    "    --chromo 19\n",
    "    \"\n",
    "eval $cmd"
   ]
  },
  {
   "cell_type": "markdown",
   "metadata": {},
   "source": [
    "For each CpG site that is observed in at least one cell, this command extracts the 50 neighboring CpG sites (25 to the left and 25 to the right), and the 1000 bp long DNA sequence window centered on the CpG site. The command creates multiple HDF5 files with name `cX_FROM_TO.h5`, where `X` is the chromosome, and `FROM` and `TO` the index of CpG sites stored in the file:"
   ]
  },
  {
   "cell_type": "code",
   "execution_count": 10,
   "metadata": {
    "collapsed": false
   },
   "outputs": [
    {
     "name": "stdout",
     "output_type": "stream",
     "text": [
      "c19_000000-032768.h5 c19_131072-163840.h5 c19_262144-294912.h5\r\n",
      "c19_032768-065536.h5 c19_163840-196608.h5 c19_294912-306801.h5\r\n",
      "c19_065536-098304.h5 c19_196608-229376.h5\r\n",
      "c19_098304-131072.h5 c19_229376-262144.h5\r\n"
     ]
    }
   ],
   "source": [
    "ls $dcpg_data"
   ]
  },
  {
   "cell_type": "markdown",
   "metadata": {},
   "source": [
    "## Model training "
   ]
  },
  {
   "cell_type": "markdown",
   "metadata": {},
   "source": [
    "We can now train models on the created data files. \n",
    "\n",
    "First, we train a model that only uses the neighboring methylation states of all cells, denoted as *CpG module* in the publication. For demonstration purposes, we only train for one epoch on 1000 CpG sites. In practice, one would train on all data until learning converges, if possible on one or more GPUs. "
   ]
  },
  {
   "cell_type": "code",
   "execution_count": 11,
   "metadata": {
    "collapsed": false
   },
   "outputs": [
    {
     "name": "stdout",
     "output_type": "stream",
     "text": []
    }
   ],
   "source": [
    "models_dir=\"./models\"\n",
    "mkdir -p $models_dir"
   ]
  },
  {
   "cell_type": "code",
   "execution_count": 12,
   "metadata": {
    "collapsed": false
   },
   "outputs": [
    {
     "name": "stdout",
     "output_type": "stream",
     "text": [
      "Using TensorFlow backend.\r\n",
      "INFO (2017-01-25 15:09:46,915): Building model ...\r\n",
      "Replicate names:\r\n",
      "BS27_1_SER, BS27_3_SER, BS27_5_SER, BS27_6_SER, BS27_8_SER\r\n",
      "\r\n",
      "INFO (2017-01-25 15:09:46,922): Building CpG model ...\r\n",
      "____________________________________________________________________________________________________\r\n",
      "Layer (type)                     Output Shape          Param #     Connected to                     \r\n",
      "====================================================================================================\r\n",
      "cpg/state/BS27_1_SER--BS27_3_SER (None, 5, 50)         0                                            \r\n",
      "____________________________________________________________________________________________________\r\n",
      "cpg/dist/BS27_1_SER--BS27_3_SER- (None, 5, 50)         0                                            \r\n",
      "____________________________________________________________________________________________________\r\n",
      "cpg/merge_1 (Merge)              (None, 5, 100)        0           cpg/state/BS27_1_SER--BS27_3_SER-\r\n",
      "                                                                   cpg/dist/BS27_1_SER--BS27_3_SER--\r\n",
      "____________________________________________________________________________________________________\r\n",
      "cpg/timedistributed_1 (TimeDistr (None, 5, 256)        25856       cpg/merge_1[0][0]                \r\n",
      "____________________________________________________________________________________________________\r\n",
      "cpg/bidirectional_1 (Bidirection (None, 512)           787968      cpg/timedistributed_1[0][0]      \r\n",
      "____________________________________________________________________________________________________\r\n",
      "cpg/dropout_1 (Dropout)          (None, 512)           0           cpg/bidirectional_1[0][0]        \r\n",
      "____________________________________________________________________________________________________\r\n",
      "cpg/BS27_1_SER (Dense)           (None, 1)             513         cpg/dropout_1[0][0]              \r\n",
      "____________________________________________________________________________________________________\r\n",
      "cpg/BS27_3_SER (Dense)           (None, 1)             513         cpg/dropout_1[0][0]              \r\n",
      "____________________________________________________________________________________________________\r\n",
      "cpg/BS27_5_SER (Dense)           (None, 1)             513         cpg/dropout_1[0][0]              \r\n",
      "____________________________________________________________________________________________________\r\n",
      "cpg/BS27_6_SER (Dense)           (None, 1)             513         cpg/dropout_1[0][0]              \r\n",
      "____________________________________________________________________________________________________\r\n",
      "cpg/BS27_8_SER (Dense)           (None, 1)             513         cpg/dropout_1[0][0]              \r\n",
      "====================================================================================================\r\n",
      "Total params: 816389\r\n",
      "____________________________________________________________________________________________________\r\n",
      "INFO (2017-01-25 15:09:47,461): Computing output statistics ...\r\n",
      "Output statistics:\r\n",
      "          name | nb_tot | nb_obs | frac_obs | mean |  var\r\n",
      "---------------------------------------------------------\r\n",
      "cpg/BS27_1_SER |   1000 |    392 |     0.39 | 0.86 | 0.12\r\n",
      "cpg/BS27_3_SER |   1000 |    290 |     0.29 | 0.92 | 0.08\r\n",
      "cpg/BS27_5_SER |   1000 |    434 |     0.43 | 0.70 | 0.21\r\n",
      "cpg/BS27_6_SER |   1000 |    249 |     0.25 | 0.68 | 0.22\r\n",
      "cpg/BS27_8_SER |   1000 |    408 |     0.41 | 0.84 | 0.13\r\n",
      "\r\n",
      "Class weights:\r\n",
      "cpg/BS27_1_SER | cpg/BS27_3_SER | cpg/BS27_5_SER | cpg/BS27_6_SER | cpg/BS27_8_SER\r\n",
      "----------------------------------------------------------------------------------\r\n",
      "        0=0.86 |         0=0.92 |         0=0.70 |         0=0.68 |         0=0.84\r\n",
      "        1=0.14 |         1=0.08 |         1=0.30 |         1=0.32 |         1=0.16\r\n",
      "\r\n",
      "INFO (2017-01-25 15:09:47,681): Loading data ...\r\n",
      "INFO (2017-01-25 15:09:47,682): Initializing callbacks ...\r\n",
      "INFO (2017-01-25 15:09:47,682): Training model ...\r\n",
      "\r\n",
      "Training samples: 1000\r\n",
      "Validation samples: 1000\r\n",
      "Epochs: 1\r\n",
      "Learning rate: 0.0001\r\n",
      "====================================================================================================\r\n",
      "Epoch 1/1\r\n",
      "====================================================================================================\r\n",
      "done (%) | time |   loss |    acc | cpg/BS27_1_SER_loss | cpg/BS27_6_SER_loss | cpg/BS27_5_SER_loss | cpg/BS27_8_SER_loss | cpg/BS27_3_SER_loss | cpg/BS27_1_SER_acc | cpg/BS27_5_SER_acc | cpg/BS27_8_SER_acc | cpg/BS27_6_SER_acc | cpg/BS27_3_SER_acc\r\n",
      "--------------------------------------------------------------------------------------------------------------------------------------------------------------------------------------------------------------------------------------------------------\r\n",
      "    12.8 |  0.0 | 0.5014 | 0.5195 |              0.1097 |              0.1064 |              0.1577 |              0.0650 |              0.0626 |             0.6102 |             0.6765 |             0.2500 |             0.5610 |             0.5000\r\n",
      "    25.6 |  0.0 | 0.5218 | 0.4603 |              0.1040 |              0.1187 |              0.1627 |              0.0793 |              0.0572 |             0.5051 |             0.6337 |             0.3087 |             0.4188 |             0.4352\r\n",
      "    38.4 |  0.0 | 0.5170 | 0.4458 |              0.1027 |              0.1125 |              0.1638 |              0.0806 |              0.0573 |             0.4834 |             0.6500 |             0.3095 |             0.3968 |             0.3892\r\n",
      "    51.2 |  0.0 | 0.5413 | 0.4502 |              0.1073 |              0.1210 |              0.1693 |              0.0781 |              0.0656 |             0.4503 |             0.6578 |             0.3224 |             0.4067 |             0.4139\r\n",
      "    64.0 |  0.0 | 0.5395 | 0.4446 |              0.1080 |              0.1158 |              0.1645 |              0.0829 |              0.0683 |             0.4215 |             0.6244 |             0.3234 |             0.4143 |             0.4397\r\n",
      "    76.8 |  0.0 | 0.5395 | 0.4371 |              0.1076 |              0.1149 |              0.1641 |              0.0829 |              0.0701 |             0.3993 |             0.5971 |             0.3130 |             0.4286 |             0.4476\r\n",
      "    89.6 |  0.0 | 0.5243 | 0.4219 |              0.1068 |              0.1093 |              0.1605 |              0.0794 |              0.0683 |             0.3916 |             0.5602 |             0.3061 |             0.4215 |             0.4300\r\n",
      "   100.0 |  0.0 | 0.5320 | 0.4277 |              0.1088 |              0.1101 |              0.1642 |              0.0802 |              0.0688 |             0.3912 |             0.5465 |             0.3230 |             0.4389 |             0.4391\r\n",
      "Epoch 00000: val_loss improved from inf to 1.63583, saving model to ./models/cpg/model_weights_val.h5\r\n",
      "\r\n",
      " split |   loss |    acc | cpg/BS27_3_SER_loss | cpg/BS27_5_SER_loss | cpg/BS27_1_SER_loss | cpg/BS27_8_SER_loss | cpg/BS27_6_SER_loss | cpg/BS27_8_SER_acc | cpg/BS27_1_SER_acc | cpg/BS27_5_SER_acc | cpg/BS27_6_SER_acc | cpg/BS27_3_SER_acc\r\n",
      "-----------------------------------------------------------------------------------------------------------------------------------------------------------------------------------------------------------------------------------------------\r\n",
      " train | 0.5320 | 0.4277 |              0.0688 |              0.1642 |              0.1088 |              0.0802 |              0.1101 |             0.3230 |             0.3912 |             0.5465 |             0.4389 |             0.4391\r\n",
      "   val | 1.6358 | 0.1914 |              0.3713 |              0.3481 |              0.3527 |              0.3638 |              0.1999 |             0.1458 |             0.1130 |             0.2826 |             0.3264 |             0.0891\r\n",
      "====================================================================================================\r\n",
      "\r\n",
      "Training set performance:\r\n",
      "  loss |    acc | cpg/BS27_3_SER_loss | cpg/BS27_5_SER_loss | cpg/BS27_1_SER_loss | cpg/BS27_8_SER_loss | cpg/BS27_6_SER_loss | cpg/BS27_8_SER_acc | cpg/BS27_1_SER_acc | cpg/BS27_5_SER_acc | cpg/BS27_6_SER_acc | cpg/BS27_3_SER_acc\r\n",
      "--------------------------------------------------------------------------------------------------------------------------------------------------------------------------------------------------------------------------------------\r\n",
      "0.5320 | 0.4277 |              0.0688 |              0.1642 |              0.1088 |              0.0802 |              0.1101 |             0.3230 |             0.3912 |             0.5465 |             0.4389 |             0.4391\r\n",
      "\r\n",
      "Validation set performance:\r\n",
      "  loss |    acc | cpg/BS27_1_SER_loss | cpg/BS27_6_SER_loss | cpg/BS27_5_SER_loss | cpg/BS27_3_SER_loss | cpg/BS27_8_SER_loss | cpg/BS27_5_SER_acc | cpg/BS27_6_SER_acc | cpg/BS27_3_SER_acc | cpg/BS27_8_SER_acc | cpg/BS27_1_SER_acc\r\n",
      "--------------------------------------------------------------------------------------------------------------------------------------------------------------------------------------------------------------------------------------\r\n",
      "1.6358 | 0.1914 |              0.3527 |              0.1999 |              0.3481 |              0.3713 |              0.3638 |             0.2826 |             0.3264 |             0.0891 |             0.1458 |             0.1130\r\n",
      "INFO (2017-01-25 15:09:58,100): Done!\r\n"
     ]
    }
   ],
   "source": [
    "cmd=\"dcpg_train.py\n",
    "    $dcpg_data/c*.h5\n",
    "    --val_files $dcpg_data/c*.h5\n",
    "    --cpg_model RnnL1\n",
    "    --out_dir $models_dir/cpg\n",
    "    --nb_epoch 1\n",
    "    --nb_train_sample 1000\n",
    "    --nb_val_sample 1000\n",
    "    \"\n",
    "eval $cmd"
   ]
  },
  {
   "cell_type": "markdown",
   "metadata": {},
   "source": [
    "Altough the model only uses neighboring CpG sites, it is already quite accurate in practice. To also make use of the DNA sequence, we train a `DNA module`:"
   ]
  },
  {
   "cell_type": "code",
   "execution_count": 13,
   "metadata": {
    "collapsed": false
   },
   "outputs": [
    {
     "name": "stdout",
     "output_type": "stream",
     "text": [
      "Using TensorFlow backend.\r\n",
      "INFO (2017-01-25 15:10:16,585): Building model ...\r\n",
      "INFO (2017-01-25 15:10:16,587): Building DNA model ...\r\n",
      "____________________________________________________________________________________________________\r\n",
      "Layer (type)                     Output Shape          Param #     Connected to                     \r\n",
      "====================================================================================================\r\n",
      "dna (InputLayer)                 (None, 1001, 4)       0                                            \r\n",
      "____________________________________________________________________________________________________\r\n",
      "dna/convolution1d_1 (Convolution (None, 991, 128)      5760        dna[0][0]                        \r\n",
      "____________________________________________________________________________________________________\r\n",
      "dna/activation_1 (Activation)    (None, 991, 128)      0           dna/convolution1d_1[0][0]        \r\n",
      "____________________________________________________________________________________________________\r\n",
      "dna/maxpooling1d_1 (MaxPooling1D (None, 247, 128)      0           dna/activation_1[0][0]           \r\n",
      "____________________________________________________________________________________________________\r\n",
      "dna/convolution1d_2 (Convolution (None, 245, 256)      98560       dna/maxpooling1d_1[0][0]         \r\n",
      "____________________________________________________________________________________________________\r\n",
      "dna/activation_2 (Activation)    (None, 245, 256)      0           dna/convolution1d_2[0][0]        \r\n",
      "____________________________________________________________________________________________________\r\n",
      "dna/maxpooling1d_2 (MaxPooling1D (None, 122, 256)      0           dna/activation_2[0][0]           \r\n",
      "____________________________________________________________________________________________________\r\n",
      "dna/flatten_1 (Flatten)          (None, 31232)         0           dna/maxpooling1d_2[0][0]         \r\n",
      "____________________________________________________________________________________________________\r\n",
      "dna/dense_1 (Dense)              (None, 128)           3997824     dna/flatten_1[0][0]              \r\n",
      "____________________________________________________________________________________________________\r\n",
      "dna/activation_3 (Activation)    (None, 128)           0           dna/dense_1[0][0]                \r\n",
      "____________________________________________________________________________________________________\r\n",
      "dna/dropout_1 (Dropout)          (None, 128)           0           dna/activation_3[0][0]           \r\n",
      "____________________________________________________________________________________________________\r\n",
      "cpg/BS27_1_SER (Dense)           (None, 1)             129         dna/dropout_1[0][0]              \r\n",
      "____________________________________________________________________________________________________\r\n",
      "cpg/BS27_3_SER (Dense)           (None, 1)             129         dna/dropout_1[0][0]              \r\n",
      "____________________________________________________________________________________________________\r\n",
      "cpg/BS27_5_SER (Dense)           (None, 1)             129         dna/dropout_1[0][0]              \r\n",
      "____________________________________________________________________________________________________\r\n",
      "cpg/BS27_6_SER (Dense)           (None, 1)             129         dna/dropout_1[0][0]              \r\n",
      "____________________________________________________________________________________________________\r\n",
      "cpg/BS27_8_SER (Dense)           (None, 1)             129         dna/dropout_1[0][0]              \r\n",
      "====================================================================================================\r\n",
      "Total params: 4102789\r\n",
      "____________________________________________________________________________________________________\r\n",
      "INFO (2017-01-25 15:10:16,723): Computing output statistics ...\r\n",
      "Output statistics:\r\n",
      "          name | nb_tot | nb_obs | frac_obs | mean |  var\r\n",
      "---------------------------------------------------------\r\n",
      "cpg/BS27_1_SER |   1000 |    392 |     0.39 | 0.86 | 0.12\r\n",
      "cpg/BS27_3_SER |   1000 |    290 |     0.29 | 0.92 | 0.08\r\n",
      "cpg/BS27_5_SER |   1000 |    434 |     0.43 | 0.70 | 0.21\r\n",
      "cpg/BS27_6_SER |   1000 |    249 |     0.25 | 0.68 | 0.22\r\n",
      "cpg/BS27_8_SER |   1000 |    408 |     0.41 | 0.84 | 0.13\r\n",
      "\r\n",
      "Class weights:\r\n",
      "cpg/BS27_1_SER | cpg/BS27_3_SER | cpg/BS27_5_SER | cpg/BS27_6_SER | cpg/BS27_8_SER\r\n",
      "----------------------------------------------------------------------------------\r\n",
      "        0=0.86 |         0=0.92 |         0=0.70 |         0=0.68 |         0=0.84\r\n",
      "        1=0.14 |         1=0.08 |         1=0.30 |         1=0.32 |         1=0.16\r\n",
      "\r\n",
      "INFO (2017-01-25 15:10:16,937): Loading data ...\r\n",
      "INFO (2017-01-25 15:10:16,938): Initializing callbacks ...\r\n",
      "INFO (2017-01-25 15:10:16,939): Training model ...\r\n",
      "\r\n",
      "Training samples: 1000\r\n",
      "Validation samples: 1000\r\n",
      "Epochs: 1\r\n",
      "Learning rate: 0.0001\r\n",
      "====================================================================================================\r\n",
      "Epoch 1/1\r\n",
      "====================================================================================================\r\n",
      "done (%) | time |   loss |    acc | cpg/BS27_1_SER_loss | cpg/BS27_3_SER_loss | cpg/BS27_5_SER_loss | cpg/BS27_8_SER_loss | cpg/BS27_6_SER_loss | cpg/BS27_1_SER_acc | cpg/BS27_5_SER_acc | cpg/BS27_8_SER_acc | cpg/BS27_3_SER_acc | cpg/BS27_6_SER_acc\r\n",
      "--------------------------------------------------------------------------------------------------------------------------------------------------------------------------------------------------------------------------------------------------------\r\n",
      "    12.8 |  0.0 | 0.6223 | 0.4980 |              0.1364 |              0.0894 |              0.1730 |              0.1194 |              0.1042 |             0.5294 |             0.4203 |             0.4286 |             0.5263 |             0.5854\r\n",
      "    25.6 |  0.1 | 0.5889 | 0.4392 |              0.1115 |              0.0861 |              0.1757 |              0.1054 |              0.1101 |             0.4001 |             0.4244 |             0.3632 |             0.4774 |             0.5308\r\n",
      "    38.4 |  0.1 | 0.5985 | 0.4346 |              0.1136 |              0.0831 |              0.1827 |              0.1013 |              0.1179 |             0.3723 |             0.4519 |             0.3691 |             0.4556 |             0.5239\r\n",
      "    51.2 |  0.1 | 0.6088 | 0.4418 |              0.1203 |              0.0821 |              0.1839 |              0.1042 |              0.1184 |             0.3784 |             0.4730 |             0.3749 |             0.4589 |             0.5236\r\n",
      "    64.0 |  0.1 | 0.5929 | 0.4186 |              0.1192 |              0.0773 |              0.1832 |              0.0964 |              0.1168 |             0.3590 |             0.4645 |             0.3380 |             0.4242 |             0.5073\r\n",
      "    76.8 |  0.1 | 0.5777 | 0.4104 |              0.1136 |              0.0751 |              0.1802 |              0.0918 |              0.1171 |             0.3265 |             0.4666 |             0.3405 |             0.4141 |             0.5042\r\n",
      "    89.6 |  0.2 | 0.5752 | 0.4156 |              0.1117 |              0.0753 |              0.1790 |              0.0927 |              0.1164 |             0.3293 |             0.4745 |             0.3342 |             0.4242 |             0.5158\r\n",
      "   100.0 |  0.2 | 0.5688 | 0.4159 |              0.1108 |              0.0766 |              0.1756 |              0.0915 |              0.1143 |             0.3297 |             0.4750 |             0.3361 |             0.4247 |             0.5142\r\n",
      "Epoch 00000: val_loss improved from inf to 1.51426, saving model to ./models/dna/model_weights_val.h5\r\n",
      "\r\n",
      " split |   loss |    acc | cpg/BS27_5_SER_loss | cpg/BS27_6_SER_loss | cpg/BS27_3_SER_loss | cpg/BS27_1_SER_loss | cpg/BS27_8_SER_loss | cpg/BS27_8_SER_acc | cpg/BS27_3_SER_acc | cpg/BS27_1_SER_acc | cpg/BS27_6_SER_acc | cpg/BS27_5_SER_acc\r\n",
      "-----------------------------------------------------------------------------------------------------------------------------------------------------------------------------------------------------------------------------------------------\r\n",
      " train | 0.5688 | 0.4159 |              0.1756 |              0.1143 |              0.0766 |              0.1108 |              0.0915 |             0.3361 |             0.4247 |             0.3297 |             0.5142 |             0.4750\r\n",
      "   val | 1.5143 | 0.1914 |              0.3578 |              0.1866 |              0.2552 |              0.3414 |              0.3733 |             0.1458 |             0.0891 |             0.1130 |             0.3264 |             0.2826\r\n",
      "====================================================================================================\r\n",
      "\r\n",
      "Training set performance:\r\n",
      "  loss |    acc | cpg/BS27_5_SER_loss | cpg/BS27_6_SER_loss | cpg/BS27_3_SER_loss | cpg/BS27_1_SER_loss | cpg/BS27_8_SER_loss | cpg/BS27_8_SER_acc | cpg/BS27_3_SER_acc | cpg/BS27_1_SER_acc | cpg/BS27_6_SER_acc | cpg/BS27_5_SER_acc\r\n",
      "--------------------------------------------------------------------------------------------------------------------------------------------------------------------------------------------------------------------------------------\r\n",
      "0.5688 | 0.4159 |              0.1756 |              0.1143 |              0.0766 |              0.1108 |              0.0915 |             0.3361 |             0.4247 |             0.3297 |             0.5142 |             0.4750\r\n",
      "\r\n",
      "Validation set performance:\r\n",
      "  loss |    acc | cpg/BS27_3_SER_loss | cpg/BS27_1_SER_loss | cpg/BS27_5_SER_loss | cpg/BS27_6_SER_loss | cpg/BS27_8_SER_loss | cpg/BS27_5_SER_acc | cpg/BS27_3_SER_acc | cpg/BS27_1_SER_acc | cpg/BS27_6_SER_acc | cpg/BS27_8_SER_acc\r\n",
      "--------------------------------------------------------------------------------------------------------------------------------------------------------------------------------------------------------------------------------------\r\n",
      "1.5143 | 0.1914 |              0.2552 |              0.3414 |              0.3578 |              0.1866 |              0.3733 |             0.2826 |             0.0891 |             0.1130 |             0.3264 |             0.1458\r\n",
      "INFO (2017-01-25 15:10:34,001): Done!\r\n",
      "Exception ignored in: <bound method BaseSession.__del__ of <tensorflow.python.client.session.Session object at 0x1119ea4e0>>\r\n",
      "Traceback (most recent call last):\r\n",
      "  File \"/opt/local/Library/Frameworks/Python.framework/Versions/3.5/lib/python3.5/site-packages/tensorflow/python/client/session.py\", line 522, in __del__\r\n",
      "  File \"/opt/local/Library/Frameworks/Python.framework/Versions/3.5/lib/python3.5/site-packages/tensorflow/python/client/session.py\", line 518, in close\r\n",
      "AttributeError: 'NoneType' object has no attribute 'raise_exception_on_not_ok_status'\r\n"
     ]
    }
   ],
   "source": [
    "cmd=\"dcpg_train.py\n",
    "    $dcpg_data/c*.h5\n",
    "    --val_files $dcpg_data/c*.h5\n",
    "    --dna_model CnnL2h128\n",
    "    --out_dir $models_dir/dna\n",
    "    --nb_epoch 1\n",
    "    --nb_train_sample 1000\n",
    "    --nb_val_sample 1000\n",
    "    \"\n",
    "eval $cmd"
   ]
  },
  {
   "cell_type": "markdown",
   "metadata": {},
   "source": [
    "Finally, we are combining both models by training a *joint module* without training the *CpG* and *DNA* module:"
   ]
  },
  {
   "cell_type": "code",
   "execution_count": 14,
   "metadata": {
    "collapsed": false
   },
   "outputs": [
    {
     "name": "stdout",
     "output_type": "stream",
     "text": [
      "Using TensorFlow backend.\r\n",
      "INFO (2017-01-25 15:10:44,830): Building model ...\r\n",
      "INFO (2017-01-25 15:10:44,832): Loading existing DNA model ...\r\n",
      "Replicate names:\r\n",
      "BS27_1_SER, BS27_3_SER, BS27_5_SER, BS27_6_SER, BS27_8_SER\r\n",
      "\r\n",
      "INFO (2017-01-25 15:10:45,160): Loading existing CpG model ...\r\n",
      "INFO (2017-01-25 15:10:45,909): Joining models ...\r\n",
      "____________________________________________________________________________________________________\r\n",
      "Layer (type)                     Output Shape          Param #     Connected to                     \r\n",
      "====================================================================================================\r\n",
      "dna (InputLayer)                 (None, 1001, 4)       0                                            \r\n",
      "____________________________________________________________________________________________________\r\n",
      "dna/convolution1d_1 (Convolution (None, 991, 128)      5760        dna[0][0]                        \r\n",
      "____________________________________________________________________________________________________\r\n",
      "dna/activation_1 (Activation)    (None, 991, 128)      0           dna/convolution1d_1[0][0]        \r\n",
      "____________________________________________________________________________________________________\r\n",
      "dna/maxpooling1d_1 (MaxPooling1D (None, 247, 128)      0           dna/activation_1[0][0]           \r\n",
      "____________________________________________________________________________________________________\r\n",
      "dna/convolution1d_2 (Convolution (None, 245, 256)      98560       dna/maxpooling1d_1[0][0]         \r\n",
      "____________________________________________________________________________________________________\r\n",
      "dna/activation_2 (Activation)    (None, 245, 256)      0           dna/convolution1d_2[0][0]        \r\n",
      "____________________________________________________________________________________________________\r\n",
      "dna/maxpooling1d_2 (MaxPooling1D (None, 122, 256)      0           dna/activation_2[0][0]           \r\n",
      "____________________________________________________________________________________________________\r\n",
      "cpg/state/BS27_1_SER--BS27_3_SER (None, 5, 50)         0                                            \r\n",
      "____________________________________________________________________________________________________\r\n",
      "cpg/dist/BS27_1_SER--BS27_3_SER- (None, 5, 50)         0                                            \r\n",
      "____________________________________________________________________________________________________\r\n",
      "dna/flatten_1 (Flatten)          (None, 31232)         0           dna/maxpooling1d_2[0][0]         \r\n",
      "____________________________________________________________________________________________________\r\n",
      "cpg/merge_1 (Merge)              (None, 5, 100)        0           cpg/state/BS27_1_SER--BS27_3_SER-\r\n",
      "                                                                   cpg/dist/BS27_1_SER--BS27_3_SER--\r\n",
      "____________________________________________________________________________________________________\r\n",
      "dna/dense_1 (Dense)              (None, 128)           3997824     dna/flatten_1[0][0]              \r\n",
      "____________________________________________________________________________________________________\r\n",
      "cpg/timedistributed_1 (TimeDistr (None, 5, 256)        25856       cpg/merge_1[0][0]                \r\n",
      "____________________________________________________________________________________________________\r\n",
      "dna/activation_3 (Activation)    (None, 128)           0           dna/dense_1[0][0]                \r\n",
      "____________________________________________________________________________________________________\r\n",
      "cpg/bidirectional_1 (Bidirection (None, 512)           787968      cpg/timedistributed_1[0][0]      \r\n",
      "____________________________________________________________________________________________________\r\n",
      "dna/dropout_1 (Dropout)          (None, 128)           0           dna/activation_3[0][0]           \r\n",
      "____________________________________________________________________________________________________\r\n",
      "cpg/dropout_1 (Dropout)          (None, 512)           0           cpg/bidirectional_1[0][0]        \r\n",
      "____________________________________________________________________________________________________\r\n",
      "merge_1 (Merge)                  (None, 640)           0           dna/dropout_1[0][0]              \r\n",
      "                                                                   cpg/dropout_1[0][0]              \r\n",
      "____________________________________________________________________________________________________\r\n",
      "joint/dense_1 (Dense)            (None, 512)           328192      merge_1[0][0]                    \r\n",
      "____________________________________________________________________________________________________\r\n",
      "joint/activation_1 (Activation)  (None, 512)           0           joint/dense_1[0][0]              \r\n",
      "____________________________________________________________________________________________________\r\n",
      "joint/dropout_1 (Dropout)        (None, 512)           0           joint/activation_1[0][0]         \r\n",
      "____________________________________________________________________________________________________\r\n",
      "joint/dense_2 (Dense)            (None, 512)           262656      joint/dropout_1[0][0]            \r\n",
      "____________________________________________________________________________________________________\r\n",
      "joint/activation_2 (Activation)  (None, 512)           0           joint/dense_2[0][0]              \r\n",
      "____________________________________________________________________________________________________\r\n",
      "joint/dropout_2 (Dropout)        (None, 512)           0           joint/activation_2[0][0]         \r\n",
      "____________________________________________________________________________________________________\r\n",
      "cpg/BS27_1_SER (Dense)           (None, 1)             513         joint/dropout_2[0][0]            \r\n",
      "____________________________________________________________________________________________________\r\n",
      "cpg/BS27_3_SER (Dense)           (None, 1)             513         joint/dropout_2[0][0]            \r\n",
      "____________________________________________________________________________________________________\r\n",
      "cpg/BS27_5_SER (Dense)           (None, 1)             513         joint/dropout_2[0][0]            \r\n",
      "____________________________________________________________________________________________________\r\n",
      "cpg/BS27_6_SER (Dense)           (None, 1)             513         joint/dropout_2[0][0]            \r\n",
      "____________________________________________________________________________________________________\r\n",
      "cpg/BS27_8_SER (Dense)           (None, 1)             513         joint/dropout_2[0][0]            \r\n",
      "====================================================================================================\r\n",
      "Total params: 5509381\r\n",
      "____________________________________________________________________________________________________\r\n",
      "Layer trainability:\r\n",
      "                layer | trainable\r\n",
      "---------------------------------\r\n",
      "  dna/convolution1d_1 |     False\r\n",
      "     dna/activation_1 |     False\r\n",
      "   dna/maxpooling1d_1 |     False\r\n",
      "  dna/convolution1d_2 |     False\r\n",
      "     dna/activation_2 |     False\r\n",
      "   dna/maxpooling1d_2 |     False\r\n",
      "        dna/flatten_1 |     False\r\n",
      "          dna/dense_1 |     False\r\n",
      "cpg/timedistributed_1 |     False\r\n",
      "     dna/activation_3 |     False\r\n",
      "  cpg/bidirectional_1 |     False\r\n",
      "        dna/dropout_1 |     False\r\n",
      "        cpg/dropout_1 |     False\r\n",
      "        joint/dense_1 |      True\r\n",
      "   joint/activation_1 |      True\r\n",
      "      joint/dropout_1 |      True\r\n",
      "        joint/dense_2 |      True\r\n",
      "   joint/activation_2 |      True\r\n",
      "      joint/dropout_2 |      True\r\n",
      "\r\n",
      "INFO (2017-01-25 15:10:45,971): Computing output statistics ...\r\n",
      "Output statistics:\r\n",
      "          name | nb_tot | nb_obs | frac_obs | mean |  var\r\n",
      "---------------------------------------------------------\r\n",
      "cpg/BS27_1_SER |   1000 |    392 |     0.39 | 0.86 | 0.12\r\n",
      "cpg/BS27_3_SER |   1000 |    290 |     0.29 | 0.92 | 0.08\r\n",
      "cpg/BS27_5_SER |   1000 |    434 |     0.43 | 0.70 | 0.21\r\n",
      "cpg/BS27_6_SER |   1000 |    249 |     0.25 | 0.68 | 0.22\r\n",
      "cpg/BS27_8_SER |   1000 |    408 |     0.41 | 0.84 | 0.13\r\n",
      "\r\n",
      "Class weights:\r\n",
      "cpg/BS27_1_SER | cpg/BS27_3_SER | cpg/BS27_5_SER | cpg/BS27_6_SER | cpg/BS27_8_SER\r\n",
      "----------------------------------------------------------------------------------\r\n",
      "        0=0.86 |         0=0.92 |         0=0.70 |         0=0.68 |         0=0.84\r\n",
      "        1=0.14 |         1=0.08 |         1=0.30 |         1=0.32 |         1=0.16\r\n",
      "\r\n",
      "INFO (2017-01-25 15:10:46,265): Loading data ...\r\n",
      "INFO (2017-01-25 15:10:46,266): Initializing callbacks ...\r\n",
      "INFO (2017-01-25 15:10:46,266): Training model ...\r\n",
      "\r\n",
      "Training samples: 1000\r\n",
      "Validation samples: 1000\r\n",
      "Epochs: 1\r\n",
      "Learning rate: 0.0001\r\n",
      "====================================================================================================\r\n",
      "Epoch 1/1\r\n",
      "====================================================================================================\r\n",
      "done (%) | time |   loss |    acc | cpg/BS27_5_SER_loss | cpg/BS27_8_SER_loss | cpg/BS27_1_SER_loss | cpg/BS27_3_SER_loss | cpg/BS27_6_SER_loss | cpg/BS27_1_SER_acc | cpg/BS27_6_SER_acc | cpg/BS27_5_SER_acc | cpg/BS27_8_SER_acc | cpg/BS27_3_SER_acc\r\n",
      "--------------------------------------------------------------------------------------------------------------------------------------------------------------------------------------------------------------------------------------------------------\r\n",
      "    12.8 |  0.0 | 0.6065 | 0.5716 |              0.1797 |              0.1077 |              0.1097 |              0.0730 |              0.1364 |             0.6667 |             0.5417 |             0.4857 |             0.6800 |             0.4839\r\n",
      "    25.6 |  0.0 | 0.5809 | 0.5260 |              0.1824 |              0.0963 |              0.1186 |              0.0632 |              0.1203 |             0.5489 |             0.5340 |             0.4893 |             0.6594 |             0.3982\r\n",
      "    38.4 |  0.1 | 0.5500 | 0.5009 |              0.1726 |              0.0863 |              0.1159 |              0.0592 |              0.1161 |             0.4751 |             0.4800 |             0.4638 |             0.6919 |             0.3937\r\n",
      "    51.2 |  0.1 | 0.5458 | 0.5056 |              0.1721 |              0.0879 |              0.1114 |              0.0584 |              0.1161 |             0.4446 |             0.4996 |             0.4842 |             0.6933 |             0.4064\r\n",
      "    64.0 |  0.1 | 0.5459 | 0.5047 |              0.1758 |              0.0886 |              0.1068 |              0.0632 |              0.1115 |             0.4105 |             0.4885 |             0.4887 |             0.7130 |             0.4225\r\n",
      "    76.8 |  0.1 | 0.5509 | 0.5085 |              0.1736 |              0.0920 |              0.1097 |              0.0653 |              0.1103 |             0.4132 |             0.4904 |             0.4867 |             0.7142 |             0.4378\r\n",
      "    89.6 |  0.1 | 0.5465 | 0.5025 |              0.1731 |              0.0920 |              0.1088 |              0.0642 |              0.1085 |             0.4118 |             0.4937 |             0.4835 |             0.6919 |             0.4315\r\n",
      "   100.0 |  0.1 | 0.5473 | 0.5052 |              0.1724 |              0.0928 |              0.1083 |              0.0648 |              0.1090 |             0.4115 |             0.4988 |             0.4940 |             0.6750 |             0.4467\r\n",
      "Epoch 00000: val_loss improved from inf to 1.65570, saving model to ./models/joint/model_weights_val.h5\r\n",
      "\r\n",
      " split |   loss |    acc | cpg/BS27_1_SER_loss | cpg/BS27_5_SER_loss | cpg/BS27_6_SER_loss | cpg/BS27_8_SER_loss | cpg/BS27_3_SER_loss | cpg/BS27_1_SER_acc | cpg/BS27_5_SER_acc | cpg/BS27_8_SER_acc | cpg/BS27_6_SER_acc | cpg/BS27_3_SER_acc\r\n",
      "-----------------------------------------------------------------------------------------------------------------------------------------------------------------------------------------------------------------------------------------------\r\n",
      " train | 0.5473 | 0.5052 |              0.1083 |              0.1724 |              0.1090 |              0.0928 |              0.0648 |             0.4115 |             0.4940 |             0.6750 |             0.4988 |             0.4467\r\n",
      "   val | 1.6557 | 0.1917 |              0.4089 |              0.3496 |              0.2025 |              0.3041 |              0.3906 |             0.1130 |             0.2826 |             0.1477 |             0.3264 |             0.0891\r\n",
      "====================================================================================================\r\n",
      "\r\n",
      "Training set performance:\r\n",
      "  loss |    acc | cpg/BS27_1_SER_loss | cpg/BS27_5_SER_loss | cpg/BS27_6_SER_loss | cpg/BS27_8_SER_loss | cpg/BS27_3_SER_loss | cpg/BS27_1_SER_acc | cpg/BS27_5_SER_acc | cpg/BS27_8_SER_acc | cpg/BS27_6_SER_acc | cpg/BS27_3_SER_acc\r\n",
      "--------------------------------------------------------------------------------------------------------------------------------------------------------------------------------------------------------------------------------------\r\n",
      "0.5473 | 0.5052 |              0.1083 |              0.1724 |              0.1090 |              0.0928 |              0.0648 |             0.4115 |             0.4940 |             0.6750 |             0.4988 |             0.4467\r\n",
      "\r\n",
      "Validation set performance:\r\n",
      "  loss |    acc | cpg/BS27_5_SER_loss | cpg/BS27_8_SER_loss | cpg/BS27_6_SER_loss | cpg/BS27_1_SER_loss | cpg/BS27_3_SER_loss | cpg/BS27_3_SER_acc | cpg/BS27_1_SER_acc | cpg/BS27_5_SER_acc | cpg/BS27_6_SER_acc | cpg/BS27_8_SER_acc\r\n",
      "--------------------------------------------------------------------------------------------------------------------------------------------------------------------------------------------------------------------------------------\r\n",
      "1.6557 | 0.1917 |              0.3496 |              0.3041 |              0.2025 |              0.4089 |              0.3906 |             0.0891 |             0.1130 |             0.2826 |             0.3264 |             0.1477\r\n",
      "INFO (2017-01-25 15:11:05,655): Done!\r\n"
     ]
    }
   ],
   "source": [
    "cmd=\"dcpg_train.py\n",
    "    $dcpg_data/c*.h5\n",
    "    --val_files $dcpg_data/c*.h5\n",
    "    --dna_model $models_dir/dna\n",
    "    --cpg_model $models_dir/cpg\n",
    "    --joint_model JointL2h512\n",
    "    --train_models joint\n",
    "    --out_dir $models_dir/joint\n",
    "    --nb_epoch 1\n",
    "    --nb_train_sample 1000\n",
    "    --nb_val_sample 1000\n",
    "    \"\n",
    "eval $cmd"
   ]
  },
  {
   "cell_type": "markdown",
   "metadata": {},
   "source": [
    "## Model evaluation "
   ]
  },
  {
   "cell_type": "markdown",
   "metadata": {},
   "source": [
    "We are now using `dcpg_eval.py` to finally impute the missing methylation states and to evaluate prediction performance on the partially observed methylation states. We will use the trained joint module, but could of course also evaluate the CpG or DNA module only."
   ]
  },
  {
   "cell_type": "code",
   "execution_count": 16,
   "metadata": {
    "collapsed": false
   },
   "outputs": [
    {
     "name": "stdout",
     "output_type": "stream",
     "text": [
      "Using TensorFlow backend.\r\n",
      "INFO (2017-01-25 15:14:21,705): Loading model ...\r\n",
      "INFO (2017-01-25 15:14:22,717): Loading data ...\r\n",
      "INFO (2017-01-25 15:14:22,718): Predicting ...\r\n",
      "INFO (2017-01-25 15:14:22,751):  128/1000 (12.8%)\r\n",
      "INFO (2017-01-25 15:14:23,228):  256/1000 (25.6%)\r\n",
      "INFO (2017-01-25 15:14:23,730):  384/1000 (38.4%)\r\n",
      "INFO (2017-01-25 15:14:24,167):  512/1000 (51.2%)\r\n",
      "INFO (2017-01-25 15:14:24,626):  640/1000 (64.0%)\r\n",
      "INFO (2017-01-25 15:14:25,124):  768/1000 (76.8%)\r\n",
      "INFO (2017-01-25 15:14:25,624):  896/1000 (89.6%)\r\n",
      "INFO (2017-01-25 15:14:26,128): 1000/1000 (100.0%)\r\n",
      "/opt/local/Library/Frameworks/Python.framework/Versions/3.5/lib/python3.5/site-packages/sklearn/metrics/classification.py:1074: UndefinedMetricWarning: F-score is ill-defined and being set to 0.0 due to no predicted samples.\r\n",
      "  'precision', 'predicted', average, warn_for)\r\n",
      "           output       auc       acc       tpr  tnr        f1       mcc      n\r\n",
      "4  cpg/BS27_8_SER  0.704014  0.161765  0.002915  1.0  0.005814  0.021578  408.0\r\n",
      "2  cpg/BS27_5_SER  0.546834  0.304147  0.000000  1.0  0.000000  0.000000  434.0\r\n",
      "1  cpg/BS27_3_SER  0.502976  0.082759  0.000000  1.0  0.000000  0.000000  290.0\r\n",
      "0  cpg/BS27_1_SER  0.465349  0.142857  0.000000  1.0  0.000000  0.000000  392.0\r\n",
      "3  cpg/BS27_6_SER  0.425763  0.317269  0.000000  1.0  0.000000  0.000000  249.0\r\n",
      "INFO (2017-01-25 15:14:26,647): Done!\r\n"
     ]
    }
   ],
   "source": [
    "eval_dir=\"./eval\"\n",
    "mkdir -p $eval_dir\n",
    "\n",
    "cmd=\"dcpg_eval.py\n",
    "    $dcpg_data/c*.h5\n",
    "    --model_files $models_dir/joint\n",
    "    --out_data $eval_dir/data.h5\n",
    "    --out_report $eval_dir/report.tsv\n",
    "    --nb_sample 1000\n",
    "    \"\n",
    "eval $cmd"
   ]
  },
  {
   "cell_type": "markdown",
   "metadata": {},
   "source": [
    "The imputed methylation profiles of all cells are stored in `data.h5`, and performance metrics in `report.tsv`"
   ]
  },
  {
   "cell_type": "code",
   "execution_count": 17,
   "metadata": {
    "collapsed": false
   },
   "outputs": [
    {
     "name": "stdout",
     "output_type": "stream",
     "text": [
      "metric\toutput\tvalue\r\n",
      "acc\tcpg/BS27_3_SER\t0.08275862068965517\r\n",
      "acc\tcpg/BS27_1_SER\t0.14285714285714285\r\n",
      "acc\tcpg/BS27_8_SER\t0.16176470588235295\r\n",
      "acc\tcpg/BS27_5_SER\t0.30414746543778803\r\n",
      "acc\tcpg/BS27_6_SER\t0.3172690763052209\r\n",
      "auc\tcpg/BS27_6_SER\t0.42576321667907674\r\n",
      "auc\tcpg/BS27_1_SER\t0.4653486394557823\r\n",
      "auc\tcpg/BS27_3_SER\t0.5029761904761905\r\n",
      "auc\tcpg/BS27_5_SER\t0.5468342364037728\r\n",
      "auc\tcpg/BS27_8_SER\t0.7040143529939448\r\n",
      "f1\tcpg/BS27_3_SER\t0.0\r\n",
      "f1\tcpg/BS27_6_SER\t0.0\r\n",
      "f1\tcpg/BS27_5_SER\t0.0\r\n",
      "f1\tcpg/BS27_1_SER\t0.0\r\n",
      "f1\tcpg/BS27_8_SER\t0.005813953488372092\r\n",
      "mcc\tcpg/BS27_3_SER\t0.0\r\n",
      "mcc\tcpg/BS27_6_SER\t0.0\r\n",
      "mcc\tcpg/BS27_5_SER\t0.0\r\n",
      "mcc\tcpg/BS27_1_SER\t0.0\r\n",
      "mcc\tcpg/BS27_8_SER\t0.02157806086076016\r\n",
      "n\tcpg/BS27_6_SER\t249.0\r\n",
      "n\tcpg/BS27_3_SER\t290.0\r\n",
      "n\tcpg/BS27_1_SER\t392.0\r\n",
      "n\tcpg/BS27_8_SER\t408.0\r\n",
      "n\tcpg/BS27_5_SER\t434.0\r\n",
      "tnr\tcpg/BS27_3_SER\t1.0\r\n",
      "tnr\tcpg/BS27_6_SER\t1.0\r\n",
      "tnr\tcpg/BS27_5_SER\t1.0\r\n",
      "tnr\tcpg/BS27_1_SER\t1.0\r\n",
      "tnr\tcpg/BS27_8_SER\t1.0\r\n",
      "tpr\tcpg/BS27_3_SER\t0.0\r\n",
      "tpr\tcpg/BS27_6_SER\t0.0\r\n",
      "tpr\tcpg/BS27_5_SER\t0.0\r\n",
      "tpr\tcpg/BS27_1_SER\t0.0\r\n",
      "tpr\tcpg/BS27_8_SER\t0.0029154518950437317\r\n"
     ]
    }
   ],
   "source": [
    "cat eval/report.tsv"
   ]
  },
  {
   "cell_type": "code",
   "execution_count": 18,
   "metadata": {
    "collapsed": false
   },
   "outputs": [
    {
     "name": "stdout",
     "output_type": "stream",
     "text": [
      "/                        Group\r\n",
      "/chromo                  Dataset {1000}\r\n",
      "/outputs                 Group\r\n",
      "/outputs/cpg             Group\r\n",
      "/outputs/cpg/BS27_1_SER  Dataset {1000}\r\n",
      "/outputs/cpg/BS27_3_SER  Dataset {1000}\r\n",
      "/outputs/cpg/BS27_5_SER  Dataset {1000}\r\n",
      "/outputs/cpg/BS27_6_SER  Dataset {1000}\r\n",
      "/outputs/cpg/BS27_8_SER  Dataset {1000}\r\n",
      "/pos                     Dataset {1000}\r\n",
      "/preds                   Group\r\n",
      "/preds/cpg               Group\r\n",
      "/preds/cpg/BS27_1_SER    Dataset {1000}\r\n",
      "/preds/cpg/BS27_3_SER    Dataset {1000}\r\n",
      "/preds/cpg/BS27_5_SER    Dataset {1000}\r\n",
      "/preds/cpg/BS27_6_SER    Dataset {1000}\r\n",
      "/preds/cpg/BS27_8_SER    Dataset {1000}\r\n"
     ]
    }
   ],
   "source": [
    "h5ls -r eval/data.h5"
   ]
  }
 ],
 "metadata": {
  "kernelspec": {
   "display_name": "Bash",
   "language": "bash",
   "name": "bash"
  },
  "language_info": {
   "codemirror_mode": "shell",
   "file_extension": ".sh",
   "mimetype": "text/x-sh",
   "name": "bash"
  }
 },
 "nbformat": 4,
 "nbformat_minor": 1
}
