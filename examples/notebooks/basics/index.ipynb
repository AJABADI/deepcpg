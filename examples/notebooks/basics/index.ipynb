{
 "cells": [
  {
   "cell_type": "markdown",
   "metadata": {
    "deletable": true,
    "editable": true
   },
   "source": [
    "# DeepCpG basics"
   ]
  },
  {
   "cell_type": "markdown",
   "metadata": {
    "deletable": true,
    "editable": true
   },
   "source": [
    "This tutorial describes the basics of creating input data, training models, and evaluation models. More detailed information can be found in the [DeepCpG documentation](http://deepcpg.readthedocs.io/en/latest/)."
   ]
  },
  {
   "cell_type": "markdown",
   "metadata": {
    "deletable": true,
    "editable": true
   },
   "source": [
    "## Initialization\n",
    "We first initialize some variables that will be used throughout the tutorial. `test_mode=1` should be used for testing purposes, which speeds up computations by only using a subset of the data. For real applications, `test_mode=0` should be used."
   ]
  },
  {
   "cell_type": "code",
   "execution_count": 1,
   "metadata": {
    "collapsed": false,
    "deletable": true,
    "editable": true
   },
   "outputs": [
    {
     "name": "stdout",
     "output_type": "stream",
     "text": []
    }
   ],
   "source": [
    "function run {\n",
    "  local cmd=$@\n",
    "  echo\n",
    "  echo \"#################################\"\n",
    "  echo $cmd\n",
    "  echo \"#################################\"\n",
    "  eval $cmd\n",
    "}\n",
    "\n",
    "test_mode=1 # Set to 1 for testing and 0 otherwise.\n",
    "example_dir=\"../../data\" # Directory with example data.\n",
    "cpg_dir=\"$example_dir/cpg\" # Directory with CpG profiles.\n",
    "dna_dir=\"$example_dir/dna/mm10\" # Directory with DNA sequences."
   ]
  },
  {
   "cell_type": "markdown",
   "metadata": {
    "deletable": true,
    "editable": true
   },
   "source": [
    "## Creating DeepCpG data files\n",
    "We first store the known CpG methylation states of each cell into a tab delimted file with the following columns:\n",
    "* Chromosome (without chr)\n",
    "* Position of the CpG site on the chromosome\n",
    "* Binary methylation state of the CpG sites (0=unmethylation, 1=methylated)\n",
    "\n",
    "CpG sites with a methylation rate between zero and one should be binarized by rounding. Filenames should correspond to cell names. \n",
    "\n",
    "Each position must point the cytosine residue of a CpG site (positions enumerated from 1). Otherwise `dcpg_data.py` will report warnings, e.g. if a wrong genome is used or CpG sites were not correctly aligned.\n",
    "\n",
    "For this tutorial we are using a subset of serum mouse embryonic stem cells from *Smallwood et al. (2014)*:"
   ]
  },
  {
   "cell_type": "code",
   "execution_count": 2,
   "metadata": {
    "collapsed": false,
    "deletable": true,
    "editable": true
   },
   "outputs": [
    {
     "name": "stdout",
     "output_type": "stream",
     "text": [
      "BS27_1_SER.tsv BS27_3_SER.tsv BS27_5_SER.tsv BS27_6_SER.tsv BS27_8_SER.tsv\r\n"
     ]
    }
   ],
   "source": [
    "ls $cpg_dir"
   ]
  },
  {
   "cell_type": "markdown",
   "metadata": {
    "deletable": true,
    "editable": true
   },
   "source": [
    "We can have a look at the methylation profile of cell 'BS27_1_SER':"
   ]
  },
  {
   "cell_type": "code",
   "execution_count": 3,
   "metadata": {
    "collapsed": false,
    "deletable": true,
    "editable": true
   },
   "outputs": [
    {
     "name": "stdout",
     "output_type": "stream",
     "text": [
      "1\t3000827\t1.0\r\n",
      "1\t3001007\t1.0\r\n",
      "1\t3001018\t1.0\r\n",
      "1\t3001277\t1.0\r\n",
      "1\t3001629\t1.0\r\n",
      "1\t3003226\t1.0\r\n",
      "1\t3003339\t1.0\r\n",
      "1\t3003379\t1.0\r\n",
      "1\t3006416\t1.0\r\n",
      "1\t3007580\t1.0\r\n"
     ]
    }
   ],
   "source": [
    "head \"$cpg_dir/BS27_1_SER.tsv\""
   ]
  },
  {
   "cell_type": "markdown",
   "metadata": {
    "deletable": true,
    "editable": true
   },
   "source": [
    "Since we are dealing with mouse cells, we are using the mm10 (GRCm38) mouse genome build:"
   ]
  },
  {
   "cell_type": "code",
   "execution_count": 4,
   "metadata": {
    "collapsed": false,
    "deletable": true,
    "editable": true
   },
   "outputs": [
    {
     "name": "stdout",
     "output_type": "stream",
     "text": [
      "Mus_musculus.GRCm38.dna.chromosome.1.fa.gz\r\n",
      "Mus_musculus.GRCm38.dna.chromosome.10.fa.gz\r\n",
      "Mus_musculus.GRCm38.dna.chromosome.11.fa.gz\r\n",
      "Mus_musculus.GRCm38.dna.chromosome.12.fa.gz\r\n",
      "Mus_musculus.GRCm38.dna.chromosome.13.fa.gz\r\n",
      "Mus_musculus.GRCm38.dna.chromosome.14.fa.gz\r\n",
      "Mus_musculus.GRCm38.dna.chromosome.15.fa.gz\r\n",
      "Mus_musculus.GRCm38.dna.chromosome.16.fa.gz\r\n",
      "Mus_musculus.GRCm38.dna.chromosome.17.fa.gz\r\n",
      "Mus_musculus.GRCm38.dna.chromosome.18.fa.gz\r\n",
      "Mus_musculus.GRCm38.dna.chromosome.19.fa.gz\r\n",
      "Mus_musculus.GRCm38.dna.chromosome.2.fa.gz\r\n",
      "Mus_musculus.GRCm38.dna.chromosome.3.fa.gz\r\n",
      "Mus_musculus.GRCm38.dna.chromosome.4.fa.gz\r\n",
      "Mus_musculus.GRCm38.dna.chromosome.5.fa.gz\r\n",
      "Mus_musculus.GRCm38.dna.chromosome.6.fa.gz\r\n",
      "Mus_musculus.GRCm38.dna.chromosome.7.fa.gz\r\n",
      "Mus_musculus.GRCm38.dna.chromosome.8.fa.gz\r\n",
      "Mus_musculus.GRCm38.dna.chromosome.9.fa.gz\r\n",
      "Mus_musculus.GRCm38.dna.chromosome.MT.fa.gz\r\n",
      "Mus_musculus.GRCm38.dna.chromosome.X.fa.gz\r\n",
      "Mus_musculus.GRCm38.dna.chromosome.Y.fa.gz\r\n"
     ]
    }
   ],
   "source": [
    "ls $dna_dir"
   ]
  },
  {
   "cell_type": "markdown",
   "metadata": {
    "deletable": true,
    "editable": true
   },
   "source": [
    "These files were downloaded by `setup.py`. Other genomes, e.g. human genome hg38, can be downloaded, for example, with the following command:\n",
    "\n",
    "```bash\n",
    "wget ftp://ftp.ensembl.org/pub/release-86/fasta/homo_sapiens/dna/Homo_sapiens.GRCh38.dna.chromosome.*.fa.gz\n",
    "```"
   ]
  },
  {
   "cell_type": "markdown",
   "metadata": {
    "deletable": true,
    "editable": true
   },
   "source": [
    "Now we can run `dcpg_data.py` to create the input data for DeepCpG. For testing purposes, we only consider a few CpG sites on chromosome 19:"
   ]
  },
  {
   "cell_type": "code",
   "execution_count": 5,
   "metadata": {
    "collapsed": false,
    "deletable": true,
    "editable": true
   },
   "outputs": [
    {
     "name": "stdout",
     "output_type": "stream",
     "text": [
      "\r\n",
      "#################################\r\n",
      "dcpg_data.py --cpg_profiles ../../data/cpg/BS27_1_SER.tsv ../../data/cpg/BS27_3_SER.tsv ../../data/cpg/BS27_5_SER.tsv ../../data/cpg/BS27_6_SER.tsv ../../data/cpg/BS27_8_SER.tsv --dna_files ../../data/dna/mm10 --out_dir ./data --cpg_wlen 50 --dna_wlen 1001 --chromo 1 13 --nb_sample_chromo 1000\r\n",
      "#################################\r\n",
      "INFO (2017-03-05 18:37:02,011): Reading single-cell profiles ...\r\n",
      "INFO (2017-03-05 18:37:44,082): 2000 samples\r\n",
      "INFO (2017-03-05 18:37:44,082): --------------------------------------------------------------------------------\r\n",
      "INFO (2017-03-05 18:37:44,082): Chromosome 1 ...\r\n",
      "INFO (2017-03-05 18:37:44,100): 1000 / 1000 (100.0%) sites matched minimum coverage filter\r\n",
      "INFO (2017-03-05 18:37:49,338): Chunk \t1 / 1\r\n",
      "INFO (2017-03-05 18:37:49,395): Extracting DNA sequence windows ...\r\n",
      "INFO (2017-03-05 18:37:49,941): Extracting CpG neighbors ...\r\n",
      "INFO (2017-03-05 18:37:50,094): --------------------------------------------------------------------------------\r\n",
      "INFO (2017-03-05 18:37:50,095): Chromosome 13 ...\r\n",
      "INFO (2017-03-05 18:37:50,112): 1000 / 1000 (100.0%) sites matched minimum coverage filter\r\n",
      "INFO (2017-03-05 18:37:52,860): Chunk \t1 / 1\r\n",
      "INFO (2017-03-05 18:37:52,867): Extracting DNA sequence windows ...\r\n",
      "INFO (2017-03-05 18:37:53,188): Extracting CpG neighbors ...\r\n",
      "INFO (2017-03-05 18:37:53,318): Done!\r\n"
     ]
    }
   ],
   "source": [
    "data_dir=\"./data\"\n",
    "cmd=\"dcpg_data.py\n",
    "    --cpg_profiles $cpg_dir/*.tsv\n",
    "    --dna_files $dna_dir\n",
    "    --out_dir $data_dir\n",
    "    --cpg_wlen 50\n",
    "    --dna_wlen 1001\n",
    "\"\n",
    "if [[ $test_mode -eq 1 ]]; then\n",
    "    cmd=\"$cmd\n",
    "        --chromo 1 13\n",
    "        --nb_sample_chromo 1000\n",
    "        \"\n",
    "fi\n",
    "run $cmd"
   ]
  },
  {
   "cell_type": "markdown",
   "metadata": {
    "deletable": true,
    "editable": true
   },
   "source": [
    "For each CpG site that is observed in at least one cell, this command extracts the 50 neighboring CpG sites (25 to the left and 25 to the right), and the 1001 bp long DNA sequence window centered on the CpG site. In test mode, only 1000 CpG sites will be randomly sampled from chromosome 1 and 13. The command creates multiple HDF5 files with name `cX_FROM_TO.h5`, where `X` is the chromosome, and `FROM` and `TO` the index of CpG sites stored in the file:"
   ]
  },
  {
   "cell_type": "code",
   "execution_count": 6,
   "metadata": {
    "collapsed": false,
    "deletable": true,
    "editable": true
   },
   "outputs": [
    {
     "name": "stdout",
     "output_type": "stream",
     "text": [
      "c13_000000-001000.h5 c1_000000-001000.h5\r\n"
     ]
    }
   ],
   "source": [
    "ls $data_dir"
   ]
  },
  {
   "cell_type": "markdown",
   "metadata": {
    "deletable": true,
    "editable": true
   },
   "source": [
    "## Model training "
   ]
  },
  {
   "cell_type": "markdown",
   "metadata": {
    "deletable": true,
    "editable": true
   },
   "source": [
    "We can now train models on the created data. First, we need to split the data into a training, validation set, and test set. The training set should contain at least 3 million CpG sites. We will use chromosome 1, 3, 5, 7, and 19 as training set, and chromosome 13, 14, 15, 16, and 17 as validation set:"
   ]
  },
  {
   "cell_type": "code",
   "execution_count": 8,
   "metadata": {
    "collapsed": false,
    "deletable": true,
    "editable": true
   },
   "outputs": [
    {
     "name": "stdout",
     "output_type": "stream",
     "text": []
    }
   ],
   "source": [
    "train_files=$(ls $data_dir/c{1,3,5,7,9}_*.h5 2> /dev/null)\n",
    "val_files=$(ls $data_dir/c{13,14,15,16,17}_*.h5 2> /dev/null)"
   ]
  },
  {
   "cell_type": "markdown",
   "metadata": {
    "deletable": true,
    "editable": true
   },
   "source": [
    "We can count the number of CpG sites in the training set using `dcpg_data_stats.py`:"
   ]
  },
  {
   "cell_type": "code",
   "execution_count": 9,
   "metadata": {
    "collapsed": false,
    "deletable": true,
    "editable": true
   },
   "outputs": [
    {
     "name": "stdout",
     "output_type": "stream",
     "text": [
      "\r\n",
      "#################################\r\n",
      "dcpg_data_stats.py ./data/c1_000000-001000.h5\r\n",
      "#################################\r\n",
      "           output  nb_tot  nb_obs  frac_obs      mean       var\r\n",
      "0  cpg/BS27_1_SER    1000     187     0.187  0.775401  0.174154\r\n",
      "1  cpg/BS27_3_SER    1000     208     0.208  0.711538  0.205251\r\n",
      "2  cpg/BS27_5_SER    1000     200     0.200  0.690000  0.213900\r\n",
      "3  cpg/BS27_6_SER    1000     195     0.195  0.666667  0.222222\r\n",
      "4  cpg/BS27_8_SER    1000     210     0.210  0.776190  0.173719\r\n"
     ]
    }
   ],
   "source": [
    "cmd=\"dcpg_data_stats.py $train_files\"\n",
    "run $cmd"
   ]
  },
  {
   "cell_type": "markdown",
   "metadata": {
    "deletable": true,
    "editable": true
   },
   "source": [
    "For each output cell, `nb_tot` is the total number of CpG sites, `nb_obs` the number of CpG sites with known methylation state, `frac_obs` the ratio between `nb_obs` and `nb_tot`, `mean` the mean methylation rate, and `var` the variance of the methylation rate.\n",
    "\n",
    "We can now train our model. DeepCpG consists of a *DNA*, *CpG*, and *Joint model*, which can be trained either jointly or separately. We will train them jointly, starting with the CpG model:"
   ]
  },
  {
   "cell_type": "code",
   "execution_count": 11,
   "metadata": {
    "collapsed": false,
    "deletable": true,
    "editable": true
   },
   "outputs": [
    {
     "name": "stdout",
     "output_type": "stream",
     "text": []
    }
   ],
   "source": [
    "models_dir=\"./models\"\n",
    "mkdir -p $models_dir"
   ]
  },
  {
   "cell_type": "code",
   "execution_count": 12,
   "metadata": {
    "collapsed": false,
    "deletable": true,
    "editable": true
   },
   "outputs": [
    {
     "name": "stdout",
     "output_type": "stream",
     "text": [
      "\r\n",
      "#################################\r\n",
      "dcpg_train.py ./data/c1_000000-001000.h5 --val_files ./data/c13_000000-001000.h5 --cpg_model RnnL1 --out_dir ./models/cpg --nb_epoch 1 --nb_train_sample 1000 --nb_val_sample 1000\r\n",
      "#################################\r\n",
      "Using TensorFlow backend.\r\n",
      "INFO (2017-03-05 18:39:19,813): Building model ...\r\n",
      "Replicate names:\r\n",
      "BS27_1_SER, BS27_3_SER, BS27_5_SER, BS27_6_SER, BS27_8_SER\r\n",
      "\r\n",
      "INFO (2017-03-05 18:39:19,817): Building CpG model ...\r\n",
      "____________________________________________________________________________________________________\r\n",
      "Layer (type)                     Output Shape          Param #     Connected to                     \r\n",
      "====================================================================================================\r\n",
      "cpg/state (InputLayer)           (None, 5, 50)         0                                            \r\n",
      "____________________________________________________________________________________________________\r\n",
      "cpg/dist (InputLayer)            (None, 5, 50)         0                                            \r\n",
      "____________________________________________________________________________________________________\r\n",
      "cpg/merge_1 (Merge)              (None, 5, 100)        0           cpg/state[0][0]                  \r\n",
      "                                                                   cpg/dist[0][0]                   \r\n",
      "____________________________________________________________________________________________________\r\n",
      "cpg/timedistributed_1 (TimeDistr (None, 5, 256)        25856       cpg/merge_1[0][0]                \r\n",
      "____________________________________________________________________________________________________\r\n",
      "cpg/bidirectional_1 (Bidirection (None, 512)           787968      cpg/timedistributed_1[0][0]      \r\n",
      "____________________________________________________________________________________________________\r\n",
      "cpg/dropout_1 (Dropout)          (None, 512)           0           cpg/bidirectional_1[0][0]        \r\n",
      "____________________________________________________________________________________________________\r\n",
      "cpg/BS27_1_SER (Dense)           (None, 1)             513         cpg/dropout_1[0][0]              \r\n",
      "____________________________________________________________________________________________________\r\n",
      "cpg/BS27_3_SER (Dense)           (None, 1)             513         cpg/dropout_1[0][0]              \r\n",
      "____________________________________________________________________________________________________\r\n",
      "cpg/BS27_5_SER (Dense)           (None, 1)             513         cpg/dropout_1[0][0]              \r\n",
      "____________________________________________________________________________________________________\r\n",
      "cpg/BS27_6_SER (Dense)           (None, 1)             513         cpg/dropout_1[0][0]              \r\n",
      "____________________________________________________________________________________________________\r\n",
      "cpg/BS27_8_SER (Dense)           (None, 1)             513         cpg/dropout_1[0][0]              \r\n",
      "====================================================================================================\r\n",
      "Total params: 816389\r\n",
      "____________________________________________________________________________________________________\r\n",
      "INFO (2017-03-05 18:39:20,468): Computing output statistics ...\r\n",
      "Output statistics:\r\n",
      "          name | nb_tot | nb_obs | frac_obs | mean |  var\r\n",
      "---------------------------------------------------------\r\n",
      "cpg/BS27_1_SER |   1000 |    187 |     0.19 | 0.78 | 0.17\r\n",
      "cpg/BS27_3_SER |   1000 |    208 |     0.21 | 0.71 | 0.21\r\n",
      "cpg/BS27_5_SER |   1000 |    200 |     0.20 | 0.69 | 0.21\r\n",
      "cpg/BS27_6_SER |   1000 |    195 |     0.20 | 0.67 | 0.22\r\n",
      "cpg/BS27_8_SER |   1000 |    210 |     0.21 | 0.78 | 0.17\r\n",
      "\r\n",
      "Class weights:\r\n",
      "cpg/BS27_1_SER | cpg/BS27_3_SER | cpg/BS27_5_SER | cpg/BS27_6_SER | cpg/BS27_8_SER\r\n",
      "----------------------------------------------------------------------------------\r\n",
      "        0=0.78 |         0=0.71 |         0=0.69 |         0=0.67 |         0=0.78\r\n",
      "        1=0.22 |         1=0.29 |         1=0.31 |         1=0.33 |         1=0.22\r\n",
      "\r\n",
      "INFO (2017-03-05 18:39:20,784): Loading data ...\r\n",
      "INFO (2017-03-05 18:39:20,787): Initializing callbacks ...\r\n",
      "INFO (2017-03-05 18:39:20,788): Training model ...\r\n",
      "\r\n",
      "Training samples: 1000\r\n",
      "Validation samples: 1000\r\n",
      "Epochs: 1\r\n",
      "Learning rate: 0.0001\r\n",
      "====================================================================================================\r\n",
      "Epoch 1/1\r\n",
      "====================================================================================================\r\n",
      "done (%) | time |   loss |    acc | cpg/BS27_6_SER_loss | cpg/BS27_1_SER_loss | cpg/BS27_8_SER_loss | cpg/BS27_5_SER_loss | cpg/BS27_3_SER_loss | cpg/BS27_3_SER_acc | cpg/BS27_5_SER_acc | cpg/BS27_1_SER_acc | cpg/BS27_8_SER_acc | cpg/BS27_6_SER_acc\r\n",
      "--------------------------------------------------------------------------------------------------------------------------------------------------------------------------------------------------------------------------------------------------------\r\n",
      "    12.8 |  0.0 | 2.7236 | 0.6445 |              0.0646 |              0.0286 |              0.0731 |              0.0496 |              0.0473 |             0.7143 |             0.8077 |             0.9167 |             0.2424 |             0.5417\r\n",
      "    25.6 |  0.0 | 2.7331 | 0.5985 |              0.0513 |              0.0463 |              0.0688 |              0.0521 |              0.0558 |             0.6905 |             0.7927 |             0.7983 |             0.2180 |             0.4931\r\n",
      "    38.4 |  0.0 | 2.7358 | 0.5735 |              0.0565 |              0.0493 |              0.0601 |              0.0526 |              0.0605 |             0.6902 |             0.7785 |             0.7722 |             0.1743 |             0.4522\r\n",
      "    51.2 |  0.0 | 2.7388 | 0.5724 |              0.0615 |              0.0498 |              0.0580 |              0.0562 |              0.0582 |             0.7052 |             0.7505 |             0.7417 |             0.1884 |             0.4762\r\n",
      "    64.0 |  0.0 | 2.7361 | 0.5725 |              0.0625 |              0.0468 |              0.0557 |              0.0594 |              0.0584 |             0.6607 |             0.7158 |             0.7672 |             0.2235 |             0.4953\r\n",
      "    76.8 |  0.0 | 2.7331 | 0.5646 |              0.0607 |              0.0477 |              0.0548 |              0.0621 |              0.0565 |             0.6339 |             0.7094 |             0.7660 |             0.2631 |             0.4506\r\n",
      "    89.6 |  0.0 | 2.7312 | 0.5706 |              0.0598 |              0.0477 |              0.0536 |              0.0617 |              0.0587 |             0.6447 |             0.6854 |             0.7480 |             0.3299 |             0.4447\r\n",
      "   100.0 |  0.0 | 2.7303 | 0.5551 |              0.0611 |              0.0470 |              0.0547 |              0.0601 |              0.0594 |             0.6274 |             0.6835 |             0.6754 |             0.3635 |             0.4256\r\n",
      "Epoch 00000: val_loss improved from inf to 0.70373, saving model to ./models/cpg/model_weights_val.h5\r\n",
      "\r\n",
      " split |   loss |    acc | cpg/BS27_6_SER_loss | cpg/BS27_1_SER_loss | cpg/BS27_5_SER_loss | cpg/BS27_3_SER_loss | cpg/BS27_8_SER_loss | cpg/BS27_3_SER_acc | cpg/BS27_5_SER_acc | cpg/BS27_1_SER_acc | cpg/BS27_8_SER_acc | cpg/BS27_6_SER_acc\r\n",
      "-----------------------------------------------------------------------------------------------------------------------------------------------------------------------------------------------------------------------------------------------\r\n",
      " train | 2.7303 | 0.5551 |              0.0611 |              0.0470 |              0.0601 |              0.0594 |              0.0547 |             0.6274 |             0.6835 |             0.6754 |             0.3635 |             0.4256\r\n",
      "   val | 0.7037 | 0.4497 |              0.1460 |              0.1503 |              0.1385 |              0.1422 |              0.1268 |             0.4074 |             0.3969 |             0.2650 |             0.7780 |             0.4011\r\n",
      "====================================================================================================\r\n",
      "\r\n",
      "Training set performance:\r\n",
      "  loss |    acc | cpg/BS27_6_SER_loss | cpg/BS27_1_SER_loss | cpg/BS27_5_SER_loss | cpg/BS27_3_SER_loss | cpg/BS27_8_SER_loss | cpg/BS27_3_SER_acc | cpg/BS27_5_SER_acc | cpg/BS27_1_SER_acc | cpg/BS27_8_SER_acc | cpg/BS27_6_SER_acc\r\n",
      "--------------------------------------------------------------------------------------------------------------------------------------------------------------------------------------------------------------------------------------\r\n",
      "2.7303 | 0.5551 |              0.0611 |              0.0470 |              0.0601 |              0.0594 |              0.0547 |             0.6274 |             0.6835 |             0.6754 |             0.3635 |             0.4256\r\n",
      "\r\n",
      "Validation set performance:\r\n",
      "  loss |    acc | cpg/BS27_1_SER_loss | cpg/BS27_8_SER_loss | cpg/BS27_3_SER_loss | cpg/BS27_5_SER_loss | cpg/BS27_6_SER_loss | cpg/BS27_1_SER_acc | cpg/BS27_6_SER_acc | cpg/BS27_3_SER_acc | cpg/BS27_8_SER_acc | cpg/BS27_5_SER_acc\r\n",
      "--------------------------------------------------------------------------------------------------------------------------------------------------------------------------------------------------------------------------------------\r\n",
      "0.7037 | 0.4497 |              0.1503 |              0.1268 |              0.1422 |              0.1385 |              0.1460 |             0.2650 |             0.4011 |             0.4074 |             0.7780 |             0.3969\r\n",
      "INFO (2017-03-05 18:39:31,475): Done!\r\n"
     ]
    }
   ],
   "source": [
    "cmd=\"dcpg_train.py\n",
    "    $train_files\n",
    "    --val_files $val_files\n",
    "    --cpg_model RnnL1\n",
    "    --out_dir $models_dir/cpg\n",
    "    \"\n",
    "if [[ $test_mode -eq 1 ]]; then\n",
    "    cmd=\"$cmd\n",
    "        --nb_epoch 1\n",
    "        --nb_train_sample 1000\n",
    "        --nb_val_sample 1000\n",
    "    \"\n",
    "else\n",
    "    cmd=\"$cmd\n",
    "        --nb_epoch 30\n",
    "        \"\n",
    "fi\n",
    "run $cmd"
   ]
  },
  {
   "cell_type": "markdown",
   "metadata": {
    "deletable": true,
    "editable": true
   },
   "source": [
    "`--RnnL1` specifies the architecture of the CpG model and `--nb_epoch` the number of training epochs. These are hyper-parameters, which can be adapted depending on the size of the training set and model complexitiy. For testing purposes, we decrease the number of samples using `--nb_train_sample` and `--nb_val_sample`."
   ]
  },
  {
   "cell_type": "markdown",
   "metadata": {
    "deletable": true,
    "editable": true
   },
   "source": [
    "The CpG model is often times already quite accurate on its own. However, we can further boost the performance by also training a DNA model, which leverage the DNA sequence:"
   ]
  },
  {
   "cell_type": "code",
   "execution_count": 13,
   "metadata": {
    "collapsed": false,
    "deletable": true,
    "editable": true
   },
   "outputs": [
    {
     "name": "stdout",
     "output_type": "stream",
     "text": [
      "\r\n",
      "#################################\r\n",
      "dcpg_train.py ./data/c1_000000-001000.h5 --val_files ./data/c13_000000-001000.h5 --dna_model CnnL2h128 --out_dir ./models/dna --nb_epoch 1 --nb_train_sample 1000 --nb_val_sample 1000\r\n",
      "#################################\r\n",
      "Using TensorFlow backend.\r\n",
      "INFO (2017-03-05 18:39:36,503): Building model ...\r\n",
      "INFO (2017-03-05 18:39:36,506): Building DNA model ...\r\n",
      "____________________________________________________________________________________________________\r\n",
      "Layer (type)                     Output Shape          Param #     Connected to                     \r\n",
      "====================================================================================================\r\n",
      "dna (InputLayer)                 (None, 1001, 4)       0                                            \r\n",
      "____________________________________________________________________________________________________\r\n",
      "dna/convolution1d_1 (Convolution (None, 991, 128)      5760        dna[0][0]                        \r\n",
      "____________________________________________________________________________________________________\r\n",
      "dna/activation_1 (Activation)    (None, 991, 128)      0           dna/convolution1d_1[0][0]        \r\n",
      "____________________________________________________________________________________________________\r\n",
      "dna/maxpooling1d_1 (MaxPooling1D (None, 247, 128)      0           dna/activation_1[0][0]           \r\n",
      "____________________________________________________________________________________________________\r\n",
      "dna/convolution1d_2 (Convolution (None, 245, 256)      98560       dna/maxpooling1d_1[0][0]         \r\n",
      "____________________________________________________________________________________________________\r\n",
      "dna/activation_2 (Activation)    (None, 245, 256)      0           dna/convolution1d_2[0][0]        \r\n",
      "____________________________________________________________________________________________________\r\n",
      "dna/maxpooling1d_2 (MaxPooling1D (None, 122, 256)      0           dna/activation_2[0][0]           \r\n",
      "____________________________________________________________________________________________________\r\n",
      "dna/flatten_1 (Flatten)          (None, 31232)         0           dna/maxpooling1d_2[0][0]         \r\n",
      "____________________________________________________________________________________________________\r\n",
      "dna/dense_1 (Dense)              (None, 128)           3997824     dna/flatten_1[0][0]              \r\n",
      "____________________________________________________________________________________________________\r\n",
      "dna/activation_3 (Activation)    (None, 128)           0           dna/dense_1[0][0]                \r\n",
      "____________________________________________________________________________________________________\r\n",
      "dna/dropout_1 (Dropout)          (None, 128)           0           dna/activation_3[0][0]           \r\n",
      "____________________________________________________________________________________________________\r\n",
      "cpg/BS27_1_SER (Dense)           (None, 1)             129         dna/dropout_1[0][0]              \r\n",
      "____________________________________________________________________________________________________\r\n",
      "cpg/BS27_3_SER (Dense)           (None, 1)             129         dna/dropout_1[0][0]              \r\n",
      "____________________________________________________________________________________________________\r\n",
      "cpg/BS27_5_SER (Dense)           (None, 1)             129         dna/dropout_1[0][0]              \r\n",
      "____________________________________________________________________________________________________\r\n",
      "cpg/BS27_6_SER (Dense)           (None, 1)             129         dna/dropout_1[0][0]              \r\n",
      "____________________________________________________________________________________________________\r\n",
      "cpg/BS27_8_SER (Dense)           (None, 1)             129         dna/dropout_1[0][0]              \r\n",
      "====================================================================================================\r\n",
      "Total params: 4102789\r\n",
      "____________________________________________________________________________________________________\r\n",
      "INFO (2017-03-05 18:39:36,599): Computing output statistics ...\r\n",
      "Output statistics:\r\n",
      "          name | nb_tot | nb_obs | frac_obs | mean |  var\r\n",
      "---------------------------------------------------------\r\n",
      "cpg/BS27_1_SER |   1000 |    187 |     0.19 | 0.78 | 0.17\r\n",
      "cpg/BS27_3_SER |   1000 |    208 |     0.21 | 0.71 | 0.21\r\n",
      "cpg/BS27_5_SER |   1000 |    200 |     0.20 | 0.69 | 0.21\r\n",
      "cpg/BS27_6_SER |   1000 |    195 |     0.20 | 0.67 | 0.22\r\n",
      "cpg/BS27_8_SER |   1000 |    210 |     0.21 | 0.78 | 0.17\r\n",
      "\r\n",
      "Class weights:\r\n",
      "cpg/BS27_1_SER | cpg/BS27_3_SER | cpg/BS27_5_SER | cpg/BS27_6_SER | cpg/BS27_8_SER\r\n",
      "----------------------------------------------------------------------------------\r\n",
      "        0=0.78 |         0=0.71 |         0=0.69 |         0=0.67 |         0=0.78\r\n",
      "        1=0.22 |         1=0.29 |         1=0.31 |         1=0.33 |         1=0.22\r\n",
      "\r\n",
      "INFO (2017-03-05 18:39:36,899): Loading data ...\r\n",
      "INFO (2017-03-05 18:39:36,903): Initializing callbacks ...\r\n",
      "INFO (2017-03-05 18:39:36,904): Training model ...\r\n",
      "\r\n",
      "Training samples: 1000\r\n",
      "Validation samples: 1000\r\n",
      "Epochs: 1\r\n",
      "Learning rate: 0.0001\r\n",
      "====================================================================================================\r\n",
      "Epoch 1/1\r\n",
      "====================================================================================================\r\n",
      "done (%) | time |   loss |    acc | cpg/BS27_8_SER_loss | cpg/BS27_3_SER_loss | cpg/BS27_6_SER_loss | cpg/BS27_1_SER_loss | cpg/BS27_5_SER_loss | cpg/BS27_1_SER_acc | cpg/BS27_5_SER_acc | cpg/BS27_6_SER_acc | cpg/BS27_8_SER_acc | cpg/BS27_3_SER_acc\r\n",
      "--------------------------------------------------------------------------------------------------------------------------------------------------------------------------------------------------------------------------------------------------------\r\n",
      "    12.8 |  0.0 | 3.1027 | 0.5018 |              0.0549 |              0.0404 |              0.0596 |              0.0423 |              0.0722 |             0.8000 |             0.3438 |             0.5652 |             0.2500 |             0.5500\r\n",
      "    25.6 |  0.1 | 3.0962 | 0.4770 |              0.0567 |              0.0528 |              0.0641 |              0.0441 |              0.0657 |             0.6778 |             0.4762 |             0.4033 |             0.2379 |             0.5898\r\n",
      "    38.4 |  0.1 | 3.0768 | 0.4997 |              0.0575 |              0.0553 |              0.0638 |              0.0373 |              0.0705 |             0.7656 |             0.4791 |             0.4155 |             0.2506 |             0.5877\r\n",
      "    51.2 |  0.1 | 3.0570 | 0.4826 |              0.0547 |              0.0578 |              0.0596 |              0.0448 |              0.0679 |             0.7435 |             0.4459 |             0.3866 |             0.2713 |             0.5657\r\n",
      "    64.0 |  0.1 | 3.0312 | 0.4709 |              0.0513 |              0.0597 |              0.0603 |              0.0450 |              0.0628 |             0.7734 |             0.4093 |             0.4133 |             0.2324 |             0.5259\r\n",
      "    76.8 |  0.2 | 3.0065 | 0.4499 |              0.0483 |              0.0634 |              0.0575 |              0.0465 |              0.0588 |             0.7803 |             0.4036 |             0.3841 |             0.2003 |             0.4810\r\n",
      "    89.6 |  0.2 | 2.9857 | 0.4438 |              0.0506 |              0.0612 |              0.0586 |              0.0461 |              0.0572 |             0.7732 |             0.3784 |             0.3769 |             0.2132 |             0.4772\r\n",
      "   100.0 |  0.2 | 2.9700 | 0.4499 |              0.0506 |              0.0592 |              0.0601 |              0.0451 |              0.0593 |             0.7760 |             0.3642 |             0.4125 |             0.2238 |             0.4731\r\n",
      "Epoch 00000: val_loss improved from inf to 0.69483, saving model to ./models/dna/model_weights_val.h5\r\n",
      "\r\n",
      " split |   loss |    acc | cpg/BS27_8_SER_loss | cpg/BS27_6_SER_loss | cpg/BS27_3_SER_loss | cpg/BS27_1_SER_loss | cpg/BS27_5_SER_loss | cpg/BS27_1_SER_acc | cpg/BS27_5_SER_acc | cpg/BS27_6_SER_acc | cpg/BS27_8_SER_acc | cpg/BS27_3_SER_acc\r\n",
      "-----------------------------------------------------------------------------------------------------------------------------------------------------------------------------------------------------------------------------------------------\r\n",
      " train | 2.9700 | 0.4499 |              0.0506 |              0.0601 |              0.0592 |              0.0451 |              0.0593 |             0.7760 |             0.3642 |             0.4125 |             0.2238 |             0.4731\r\n",
      "   val | 0.6948 | 0.5120 |              0.1378 |              0.1434 |              0.1386 |              0.1412 |              0.1339 |             0.8021 |             0.3177 |             0.5729 |             0.2174 |             0.6497\r\n",
      "====================================================================================================\r\n",
      "\r\n",
      "Training set performance:\r\n",
      "  loss |    acc | cpg/BS27_8_SER_loss | cpg/BS27_6_SER_loss | cpg/BS27_3_SER_loss | cpg/BS27_1_SER_loss | cpg/BS27_5_SER_loss | cpg/BS27_1_SER_acc | cpg/BS27_5_SER_acc | cpg/BS27_6_SER_acc | cpg/BS27_8_SER_acc | cpg/BS27_3_SER_acc\r\n",
      "--------------------------------------------------------------------------------------------------------------------------------------------------------------------------------------------------------------------------------------\r\n",
      "2.9700 | 0.4499 |              0.0506 |              0.0601 |              0.0592 |              0.0451 |              0.0593 |             0.7760 |             0.3642 |             0.4125 |             0.2238 |             0.4731\r\n",
      "\r\n",
      "Validation set performance:\r\n",
      "  loss |    acc | cpg/BS27_8_SER_loss | cpg/BS27_5_SER_loss | cpg/BS27_6_SER_loss | cpg/BS27_1_SER_loss | cpg/BS27_3_SER_loss | cpg/BS27_8_SER_acc | cpg/BS27_5_SER_acc | cpg/BS27_1_SER_acc | cpg/BS27_3_SER_acc | cpg/BS27_6_SER_acc\r\n",
      "--------------------------------------------------------------------------------------------------------------------------------------------------------------------------------------------------------------------------------------\r\n",
      "0.6948 | 0.5120 |              0.1378 |              0.1339 |              0.1434 |              0.1412 |              0.1386 |             0.2174 |             0.3177 |             0.8021 |             0.6497 |             0.5729\r\n",
      "INFO (2017-03-05 18:39:57,231): Done!\r\n"
     ]
    }
   ],
   "source": [
    "cmd=\"dcpg_train.py\n",
    "    $train_files\n",
    "    --val_files $val_files\n",
    "    --dna_model CnnL2h128\n",
    "    --out_dir $models_dir/dna\n",
    "    \"\n",
    "if [[ $test_mode -eq 1 ]]; then\n",
    "    cmd=\"$cmd\n",
    "        --nb_epoch 1\n",
    "        --nb_train_sample 1000\n",
    "        --nb_val_sample 1000\n",
    "    \"\n",
    "else\n",
    "    cmd=\"$cmd\n",
    "        --nb_epoch 30\n",
    "        \"\n",
    "fi\n",
    "run $cmd"
   ]
  },
  {
   "cell_type": "markdown",
   "metadata": {
    "deletable": true,
    "editable": true
   },
   "source": [
    "Finally, we combine both models by training a Joint model:"
   ]
  },
  {
   "cell_type": "code",
   "execution_count": 14,
   "metadata": {
    "collapsed": false,
    "deletable": true,
    "editable": true
   },
   "outputs": [
    {
     "name": "stdout",
     "output_type": "stream",
     "text": [
      "\r\n",
      "#################################\r\n",
      "dcpg_train.py ./data/c1_000000-001000.h5 --val_files ./data/c13_000000-001000.h5 --dna_model ./models/dna --cpg_model ./models/cpg --joint_model JointL2h512 --train_models joint --out_dir ./models/joint --nb_epoch 1 --nb_train_sample 1000 --nb_val_sample 1000\r\n",
      "#################################\r\n",
      "Using TensorFlow backend.\r\n",
      "INFO (2017-03-05 18:40:04,081): Building model ...\r\n",
      "INFO (2017-03-05 18:40:04,084): Loading existing DNA model ...\r\n",
      "INFO (2017-03-05 18:40:04,084): Using model files ./models/dna/model.json ./models/dna/model_weights_val.h5\r\n",
      "Replicate names:\r\n",
      "BS27_1_SER, BS27_3_SER, BS27_5_SER, BS27_6_SER, BS27_8_SER\r\n",
      "\r\n",
      "INFO (2017-03-05 18:40:04,403): Loading existing CpG model ...\r\n",
      "INFO (2017-03-05 18:40:04,403): Using model files ./models/cpg/model.json ./models/cpg/model_weights_val.h5\r\n",
      "INFO (2017-03-05 18:40:05,163): Joining models ...\r\n",
      "____________________________________________________________________________________________________\r\n",
      "Layer (type)                     Output Shape          Param #     Connected to                     \r\n",
      "====================================================================================================\r\n",
      "dna (InputLayer)                 (None, 1001, 4)       0                                            \r\n",
      "____________________________________________________________________________________________________\r\n",
      "dna/convolution1d_1 (Convolution (None, 991, 128)      5760        dna[0][0]                        \r\n",
      "____________________________________________________________________________________________________\r\n",
      "dna/activation_1 (Activation)    (None, 991, 128)      0           dna/convolution1d_1[0][0]        \r\n",
      "____________________________________________________________________________________________________\r\n",
      "dna/maxpooling1d_1 (MaxPooling1D (None, 247, 128)      0           dna/activation_1[0][0]           \r\n",
      "____________________________________________________________________________________________________\r\n",
      "dna/convolution1d_2 (Convolution (None, 245, 256)      98560       dna/maxpooling1d_1[0][0]         \r\n",
      "____________________________________________________________________________________________________\r\n",
      "dna/activation_2 (Activation)    (None, 245, 256)      0           dna/convolution1d_2[0][0]        \r\n",
      "____________________________________________________________________________________________________\r\n",
      "dna/maxpooling1d_2 (MaxPooling1D (None, 122, 256)      0           dna/activation_2[0][0]           \r\n",
      "____________________________________________________________________________________________________\r\n",
      "cpg/state (InputLayer)           (None, 5, 50)         0                                            \r\n",
      "____________________________________________________________________________________________________\r\n",
      "cpg/dist (InputLayer)            (None, 5, 50)         0                                            \r\n",
      "____________________________________________________________________________________________________\r\n",
      "dna/flatten_1 (Flatten)          (None, 31232)         0           dna/maxpooling1d_2[0][0]         \r\n",
      "____________________________________________________________________________________________________\r\n",
      "cpg/merge_1 (Merge)              (None, 5, 100)        0           cpg/state[0][0]                  \r\n",
      "                                                                   cpg/dist[0][0]                   \r\n",
      "____________________________________________________________________________________________________\r\n",
      "dna/dense_1 (Dense)              (None, 128)           3997824     dna/flatten_1[0][0]              \r\n",
      "____________________________________________________________________________________________________\r\n",
      "cpg/timedistributed_1 (TimeDistr (None, 5, 256)        25856       cpg/merge_1[0][0]                \r\n",
      "____________________________________________________________________________________________________\r\n",
      "dna/activation_3 (Activation)    (None, 128)           0           dna/dense_1[0][0]                \r\n",
      "____________________________________________________________________________________________________\r\n",
      "cpg/bidirectional_1 (Bidirection (None, 512)           787968      cpg/timedistributed_1[0][0]      \r\n",
      "____________________________________________________________________________________________________\r\n",
      "dna/dropout_1 (Dropout)          (None, 128)           0           dna/activation_3[0][0]           \r\n",
      "____________________________________________________________________________________________________\r\n",
      "cpg/dropout_1 (Dropout)          (None, 512)           0           cpg/bidirectional_1[0][0]        \r\n",
      "____________________________________________________________________________________________________\r\n",
      "merge_1 (Merge)                  (None, 640)           0           dna/dropout_1[0][0]              \r\n",
      "                                                                   cpg/dropout_1[0][0]              \r\n",
      "____________________________________________________________________________________________________\r\n",
      "joint/dense_1 (Dense)            (None, 512)           328192      merge_1[0][0]                    \r\n",
      "____________________________________________________________________________________________________\r\n",
      "joint/activation_1 (Activation)  (None, 512)           0           joint/dense_1[0][0]              \r\n",
      "____________________________________________________________________________________________________\r\n",
      "joint/dropout_1 (Dropout)        (None, 512)           0           joint/activation_1[0][0]         \r\n",
      "____________________________________________________________________________________________________\r\n",
      "joint/dense_2 (Dense)            (None, 512)           262656      joint/dropout_1[0][0]            \r\n",
      "____________________________________________________________________________________________________\r\n",
      "joint/activation_2 (Activation)  (None, 512)           0           joint/dense_2[0][0]              \r\n",
      "____________________________________________________________________________________________________\r\n",
      "joint/dropout_2 (Dropout)        (None, 512)           0           joint/activation_2[0][0]         \r\n",
      "____________________________________________________________________________________________________\r\n",
      "cpg/BS27_1_SER (Dense)           (None, 1)             513         joint/dropout_2[0][0]            \r\n",
      "____________________________________________________________________________________________________\r\n",
      "cpg/BS27_3_SER (Dense)           (None, 1)             513         joint/dropout_2[0][0]            \r\n",
      "____________________________________________________________________________________________________\r\n",
      "cpg/BS27_5_SER (Dense)           (None, 1)             513         joint/dropout_2[0][0]            \r\n",
      "____________________________________________________________________________________________________\r\n",
      "cpg/BS27_6_SER (Dense)           (None, 1)             513         joint/dropout_2[0][0]            \r\n",
      "____________________________________________________________________________________________________\r\n",
      "cpg/BS27_8_SER (Dense)           (None, 1)             513         joint/dropout_2[0][0]            \r\n",
      "====================================================================================================\r\n",
      "Total params: 5509381\r\n",
      "____________________________________________________________________________________________________\r\n",
      "Layer trainability:\r\n",
      "                layer | trainable\r\n",
      "---------------------------------\r\n",
      "  dna/convolution1d_1 |     False\r\n",
      "     dna/activation_1 |     False\r\n",
      "   dna/maxpooling1d_1 |     False\r\n",
      "  dna/convolution1d_2 |     False\r\n",
      "     dna/activation_2 |     False\r\n",
      "   dna/maxpooling1d_2 |     False\r\n",
      "        dna/flatten_1 |     False\r\n",
      "          dna/dense_1 |     False\r\n",
      "cpg/timedistributed_1 |     False\r\n",
      "     dna/activation_3 |     False\r\n",
      "  cpg/bidirectional_1 |     False\r\n",
      "        dna/dropout_1 |     False\r\n",
      "        cpg/dropout_1 |     False\r\n",
      "        joint/dense_1 |      True\r\n",
      "   joint/activation_1 |      True\r\n",
      "      joint/dropout_1 |      True\r\n",
      "        joint/dense_2 |      True\r\n",
      "   joint/activation_2 |      True\r\n",
      "      joint/dropout_2 |      True\r\n",
      "\r\n",
      "INFO (2017-03-05 18:40:05,236): Computing output statistics ...\r\n",
      "Output statistics:\r\n",
      "          name | nb_tot | nb_obs | frac_obs | mean |  var\r\n",
      "---------------------------------------------------------\r\n",
      "cpg/BS27_1_SER |   1000 |    187 |     0.19 | 0.78 | 0.17\r\n",
      "cpg/BS27_3_SER |   1000 |    208 |     0.21 | 0.71 | 0.21\r\n",
      "cpg/BS27_5_SER |   1000 |    200 |     0.20 | 0.69 | 0.21\r\n",
      "cpg/BS27_6_SER |   1000 |    195 |     0.20 | 0.67 | 0.22\r\n",
      "cpg/BS27_8_SER |   1000 |    210 |     0.21 | 0.78 | 0.17\r\n",
      "\r\n",
      "Class weights:\r\n",
      "cpg/BS27_1_SER | cpg/BS27_3_SER | cpg/BS27_5_SER | cpg/BS27_6_SER | cpg/BS27_8_SER\r\n",
      "----------------------------------------------------------------------------------\r\n",
      "        0=0.78 |         0=0.71 |         0=0.69 |         0=0.67 |         0=0.78\r\n",
      "        1=0.22 |         1=0.29 |         1=0.31 |         1=0.33 |         1=0.22\r\n",
      "\r\n",
      "INFO (2017-03-05 18:40:05,581): Loading data ...\r\n",
      "INFO (2017-03-05 18:40:05,584): Initializing callbacks ...\r\n",
      "INFO (2017-03-05 18:40:05,584): Training model ...\r\n",
      "\r\n",
      "Training samples: 1000\r\n",
      "Validation samples: 1000\r\n",
      "Epochs: 1\r\n",
      "Learning rate: 0.0001\r\n",
      "====================================================================================================\r\n",
      "Epoch 1/1\r\n",
      "====================================================================================================\r\n",
      "done (%) | time |   loss |    acc | cpg/BS27_1_SER_loss | cpg/BS27_6_SER_loss | cpg/BS27_3_SER_loss | cpg/BS27_5_SER_loss | cpg/BS27_8_SER_loss | cpg/BS27_1_SER_acc | cpg/BS27_5_SER_acc | cpg/BS27_3_SER_acc | cpg/BS27_8_SER_acc | cpg/BS27_6_SER_acc\r\n",
      "--------------------------------------------------------------------------------------------------------------------------------------------------------------------------------------------------------------------------------------------------------\r\n",
      "    12.8 |  0.0 | 7.5478 | 0.4360 |              0.0602 |              0.0563 |              0.0540 |              0.0589 |              0.0774 |             0.3214 |             0.3200 |             0.3478 |             0.6000 |             0.5909\r\n",
      "    25.6 |  0.0 | 7.5250 | 0.3994 |              0.0556 |              0.0570 |              0.0582 |              0.0552 |              0.0622 |             0.2718 |             0.3191 |             0.3855 |             0.4250 |             0.5955\r\n",
      "    38.4 |  0.0 | 7.5140 | 0.3492 |              0.0490 |              0.0567 |              0.0623 |              0.0585 |              0.0550 |             0.2115 |             0.3362 |             0.3430 |             0.3218 |             0.5333\r\n",
      "    51.2 |  0.1 | 7.5071 | 0.3307 |              0.0468 |              0.0538 |              0.0629 |              0.0571 |              0.0584 |             0.2182 |             0.3282 |             0.2989 |             0.2969 |             0.5111\r\n",
      "    64.0 |  0.1 | 7.5016 | 0.3125 |              0.0496 |              0.0536 |              0.0641 |              0.0535 |              0.0570 |             0.2098 |             0.2959 |             0.3058 |             0.2984 |             0.4524\r\n",
      "    76.8 |  0.1 | 7.4943 | 0.3050 |              0.0469 |              0.0559 |              0.0621 |              0.0554 |              0.0545 |             0.2082 |             0.3244 |             0.2815 |             0.2764 |             0.4344\r\n",
      "    89.6 |  0.1 | 7.4917 | 0.3297 |              0.0460 |              0.0593 |              0.0601 |              0.0575 |              0.0539 |             0.2669 |             0.3618 |             0.3062 |             0.2786 |             0.4349\r\n",
      "   100.0 |  0.1 | 7.4890 | 0.3489 |              0.0457 |              0.0602 |              0.0601 |              0.0595 |              0.0521 |             0.3060 |             0.3882 |             0.3437 |             0.2606 |             0.4460\r\n",
      "Epoch 00000: val_loss improved from inf to 0.68527, saving model to ./models/joint/model_weights_val.h5\r\n",
      "\r\n",
      " split |   loss |    acc | cpg/BS27_6_SER_loss | cpg/BS27_5_SER_loss | cpg/BS27_3_SER_loss | cpg/BS27_1_SER_loss | cpg/BS27_8_SER_loss | cpg/BS27_5_SER_acc | cpg/BS27_6_SER_acc | cpg/BS27_1_SER_acc | cpg/BS27_3_SER_acc | cpg/BS27_8_SER_acc\r\n",
      "-----------------------------------------------------------------------------------------------------------------------------------------------------------------------------------------------------------------------------------------------\r\n",
      " train | 7.4890 | 0.3489 |              0.0602 |              0.0595 |              0.0601 |              0.0457 |              0.0521 |             0.3882 |             0.4460 |             0.3060 |             0.3437 |             0.2606\r\n",
      "   val | 0.6853 | 0.6147 |              0.1427 |              0.1311 |              0.1327 |              0.1377 |              0.1411 |             0.6683 |             0.5890 |             0.7576 |             0.7510 |             0.3077\r\n",
      "====================================================================================================\r\n",
      "\r\n",
      "Training set performance:\r\n",
      "  loss |    acc | cpg/BS27_6_SER_loss | cpg/BS27_5_SER_loss | cpg/BS27_3_SER_loss | cpg/BS27_1_SER_loss | cpg/BS27_8_SER_loss | cpg/BS27_5_SER_acc | cpg/BS27_6_SER_acc | cpg/BS27_1_SER_acc | cpg/BS27_3_SER_acc | cpg/BS27_8_SER_acc\r\n",
      "--------------------------------------------------------------------------------------------------------------------------------------------------------------------------------------------------------------------------------------\r\n",
      "7.4890 | 0.3489 |              0.0602 |              0.0595 |              0.0601 |              0.0457 |              0.0521 |             0.3882 |             0.4460 |             0.3060 |             0.3437 |             0.2606\r\n",
      "\r\n",
      "Validation set performance:\r\n",
      "  loss |    acc | cpg/BS27_6_SER_loss | cpg/BS27_1_SER_loss | cpg/BS27_8_SER_loss | cpg/BS27_5_SER_loss | cpg/BS27_3_SER_loss | cpg/BS27_3_SER_acc | cpg/BS27_8_SER_acc | cpg/BS27_1_SER_acc | cpg/BS27_5_SER_acc | cpg/BS27_6_SER_acc\r\n",
      "--------------------------------------------------------------------------------------------------------------------------------------------------------------------------------------------------------------------------------------\r\n",
      "0.6853 | 0.6147 |              0.1427 |              0.1377 |              0.1411 |              0.1311 |              0.1327 |             0.7510 |             0.3077 |             0.7576 |             0.6683 |             0.5890\r\n",
      "INFO (2017-03-05 18:40:25,364): Done!\r\n"
     ]
    }
   ],
   "source": [
    "cmd=\"dcpg_train.py\n",
    "    $train_files\n",
    "    --val_files $val_files\n",
    "    --dna_model $models_dir/dna\n",
    "    --cpg_model $models_dir/cpg\n",
    "    --joint_model JointL2h512\n",
    "    --train_models joint\n",
    "    --out_dir $models_dir/joint\n",
    "\"\n",
    "if [[ $test_mode -eq 1 ]]; then\n",
    "    cmd=\"$cmd\n",
    "        --nb_epoch 1\n",
    "        --nb_train_sample 1000\n",
    "        --nb_val_sample 1000\n",
    "    \"\n",
    "else\n",
    "    cmd=\"$cmd\n",
    "        --nb_epoch 10\n",
    "        \"\n",
    "fi\n",
    "run $cmd"
   ]
  },
  {
   "cell_type": "markdown",
   "metadata": {
    "deletable": true,
    "editable": true
   },
   "source": [
    "You can find more information about [training](http://deepcpg.readthedocs.io/en/latest/train.html) and [model architectures](http://deepcpg.readthedocs.io/en/latest/models.html) in the DeepCpG documentation."
   ]
  },
  {
   "cell_type": "markdown",
   "metadata": {
    "deletable": true,
    "editable": true
   },
   "source": [
    "## Model evaluation "
   ]
  },
  {
   "cell_type": "markdown",
   "metadata": {
    "deletable": true,
    "editable": true
   },
   "source": [
    "Finally, we use `dcpg_eval.py` to impute missing methylation states and to evaluate prediction performance on observed  states. We will use the trained Joint model, but could of course also evaluate the CpG or DNA model."
   ]
  },
  {
   "cell_type": "code",
   "execution_count": 15,
   "metadata": {
    "collapsed": false,
    "deletable": true,
    "editable": true
   },
   "outputs": [
    {
     "name": "stdout",
     "output_type": "stream",
     "text": [
      "\r\n",
      "#################################\r\n",
      "dcpg_eval.py ./data/c13_000000-001000.h5 ./data/c1_000000-001000.h5 --model_files ./models/joint --out_data ./eval/data.h5 --out_report ./eval/report.csv --nb_sample 1000\r\n",
      "#################################\r\n",
      "Using TensorFlow backend.\r\n",
      "INFO (2017-03-05 18:40:30,156): Loading model ...\r\n",
      "INFO (2017-03-05 18:40:31,124): Loading data ...\r\n",
      "INFO (2017-03-05 18:40:31,131): Predicting ...\r\n",
      "INFO (2017-03-05 18:40:31,148):  128/1000 (12.8%)\r\n",
      "INFO (2017-03-05 18:40:31,635):  256/1000 (25.6%)\r\n",
      "INFO (2017-03-05 18:40:32,078):  384/1000 (38.4%)\r\n",
      "INFO (2017-03-05 18:40:32,554):  512/1000 (51.2%)\r\n",
      "INFO (2017-03-05 18:40:33,020):  640/1000 (64.0%)\r\n",
      "INFO (2017-03-05 18:40:33,498):  768/1000 (76.8%)\r\n",
      "INFO (2017-03-05 18:40:33,973):  896/1000 (89.6%)\r\n",
      "INFO (2017-03-05 18:40:34,447): 1000/1000 (100.0%)\r\n",
      "           output       auc       acc       tpr       tnr        f1       mcc      n\r\n",
      "4  cpg/BS27_8_SER  0.531582  0.297980  0.116883  0.931818  0.205714  0.065755  198.0\r\n",
      "1  cpg/BS27_3_SER  0.519198  0.760000  0.987013  0.000000  0.863636 -0.054929  200.0\r\n",
      "0  cpg/BS27_1_SER  0.500305  0.754902  0.914634  0.100000  0.857143  0.020485  204.0\r\n",
      "2  cpg/BS27_5_SER  0.486087  0.673575  0.947761  0.050847  0.801262 -0.002892  193.0\r\n",
      "3  cpg/BS27_6_SER  0.443919  0.579710  0.811594  0.115942  0.720257 -0.092198  207.0\r\n",
      "INFO (2017-03-05 18:40:34,931): Done!\r\n",
      "Exception ignored in: <bound method BaseSession.__del__ of <tensorflow.python.client.session.Session object at 0x1137dbc88>>\r\n",
      "Traceback (most recent call last):\r\n",
      "  File \"/opt/local/Library/Frameworks/Python.framework/Versions/3.5/lib/python3.5/site-packages/tensorflow/python/client/session.py\", line 522, in __del__\r\n",
      "  File \"/opt/local/Library/Frameworks/Python.framework/Versions/3.5/lib/python3.5/site-packages/tensorflow/python/client/session.py\", line 518, in close\r\n",
      "  File \"/opt/local/Library/Frameworks/Python.framework/Versions/3.5/lib/python3.5/contextlib.py\", line 59, in __enter__\r\n",
      "  File \"/opt/local/Library/Frameworks/Python.framework/Versions/3.5/lib/python3.5/site-packages/tensorflow/python/framework/errors.py\", line 452, in raise_exception_on_not_ok_status\r\n",
      "UnboundLocalError: local variable 'status' referenced before assignment\r\n"
     ]
    }
   ],
   "source": [
    "eval_dir=\"./eval\"\n",
    "mkdir -p $eval_dir\n",
    "\n",
    "cmd=\"dcpg_eval.py\n",
    "    $data_dir/c*.h5\n",
    "    --model_files $models_dir/joint\n",
    "    --out_data $eval_dir/data.h5\n",
    "    --out_report $eval_dir/report.csv\n",
    "    \"\n",
    "if [[ $test_mode -eq 1 ]]; then\n",
    "    cmd=\"$cmd\n",
    "        --nb_sample 1000\n",
    "        \"\n",
    "fi\n",
    "run $cmd"
   ]
  },
  {
   "cell_type": "markdown",
   "metadata": {
    "deletable": true,
    "editable": true
   },
   "source": [
    "The imputed methylation profiles of all cells are stored in `data.h5`, and performance metrics in `report.csv`."
   ]
  },
  {
   "cell_type": "code",
   "execution_count": 16,
   "metadata": {
    "collapsed": false,
    "deletable": true,
    "editable": true
   },
   "outputs": [
    {
     "name": "stdout",
     "output_type": "stream",
     "text": [
      "metric\toutput\tvalue\r\n",
      "acc\tcpg/BS27_1_SER\t0.7549019607843137\r\n",
      "acc\tcpg/BS27_3_SER\t0.76\r\n",
      "acc\tcpg/BS27_5_SER\t0.6735751295336787\r\n",
      "acc\tcpg/BS27_6_SER\t0.5797101449275363\r\n",
      "acc\tcpg/BS27_8_SER\t0.29797979797979796\r\n",
      "auc\tcpg/BS27_1_SER\t0.5003048780487804\r\n",
      "auc\tcpg/BS27_3_SER\t0.5191981931112366\r\n",
      "auc\tcpg/BS27_5_SER\t0.4860865165696939\r\n",
      "auc\tcpg/BS27_6_SER\t0.4439193446754883\r\n",
      "auc\tcpg/BS27_8_SER\t0.531582054309327\r\n",
      "f1\tcpg/BS27_1_SER\t0.857142857142857\r\n",
      "f1\tcpg/BS27_3_SER\t0.8636363636363635\r\n",
      "f1\tcpg/BS27_5_SER\t0.8012618296529967\r\n",
      "f1\tcpg/BS27_6_SER\t0.7202572347266881\r\n",
      "f1\tcpg/BS27_8_SER\t0.2057142857142857\r\n",
      "mcc\tcpg/BS27_1_SER\t0.02048455758362385\r\n",
      "mcc\tcpg/BS27_3_SER\t-0.05492890710151309\r\n",
      "mcc\tcpg/BS27_5_SER\t-0.002891936384328604\r\n",
      "mcc\tcpg/BS27_6_SER\t-0.09219821056073607\r\n",
      "mcc\tcpg/BS27_8_SER\t0.06575532984988024\r\n",
      "n\tcpg/BS27_1_SER\t204.0\r\n",
      "n\tcpg/BS27_3_SER\t200.0\r\n",
      "n\tcpg/BS27_5_SER\t193.0\r\n",
      "n\tcpg/BS27_6_SER\t207.0\r\n",
      "n\tcpg/BS27_8_SER\t198.0\r\n",
      "tnr\tcpg/BS27_1_SER\t0.1\r\n",
      "tnr\tcpg/BS27_3_SER\t0.0\r\n",
      "tnr\tcpg/BS27_5_SER\t0.05084745762711865\r\n",
      "tnr\tcpg/BS27_6_SER\t0.11594202898550725\r\n",
      "tnr\tcpg/BS27_8_SER\t0.9318181818181818\r\n",
      "tpr\tcpg/BS27_1_SER\t0.9146341463414634\r\n",
      "tpr\tcpg/BS27_3_SER\t0.987012987012987\r\n",
      "tpr\tcpg/BS27_5_SER\t0.9477611940298507\r\n",
      "tpr\tcpg/BS27_6_SER\t0.8115942028985508\r\n",
      "tpr\tcpg/BS27_8_SER\t0.11688311688311688\r\n"
     ]
    }
   ],
   "source": [
    "cat $eval_dir/report.csv "
   ]
  },
  {
   "cell_type": "code",
   "execution_count": 17,
   "metadata": {
    "collapsed": false,
    "deletable": true,
    "editable": true
   },
   "outputs": [
    {
     "name": "stdout",
     "output_type": "stream",
     "text": [
      "/                        Group\r\n",
      "/chromo                  Dataset {1000}\r\n",
      "/outputs                 Group\r\n",
      "/outputs/cpg             Group\r\n",
      "/outputs/cpg/BS27_1_SER  Dataset {1000}\r\n",
      "/outputs/cpg/BS27_3_SER  Dataset {1000}\r\n",
      "/outputs/cpg/BS27_5_SER  Dataset {1000}\r\n",
      "/outputs/cpg/BS27_6_SER  Dataset {1000}\r\n",
      "/outputs/cpg/BS27_8_SER  Dataset {1000}\r\n",
      "/pos                     Dataset {1000}\r\n",
      "/preds                   Group\r\n",
      "/preds/cpg               Group\r\n",
      "/preds/cpg/BS27_1_SER    Dataset {1000}\r\n",
      "/preds/cpg/BS27_3_SER    Dataset {1000}\r\n",
      "/preds/cpg/BS27_5_SER    Dataset {1000}\r\n",
      "/preds/cpg/BS27_6_SER    Dataset {1000}\r\n",
      "/preds/cpg/BS27_8_SER    Dataset {1000}\r\n"
     ]
    }
   ],
   "source": [
    "h5ls -r $eval_dir/data.h5"
   ]
  },
  {
   "cell_type": "markdown",
   "metadata": {
    "deletable": true,
    "editable": true
   },
   "source": [
    "## Exporting methylation profiles"
   ]
  },
  {
   "cell_type": "markdown",
   "metadata": {
    "deletable": true,
    "editable": true
   },
   "source": [
    "Finally, we export imputed methylation profiles to HDF5 files:"
   ]
  },
  {
   "cell_type": "code",
   "execution_count": 18,
   "metadata": {
    "collapsed": false,
    "deletable": true,
    "editable": true
   },
   "outputs": [
    {
     "name": "stdout",
     "output_type": "stream",
     "text": [
      "INFO (2017-03-05 18:40:37,044): cpg/BS27_1_SER\r\n",
      "INFO (2017-03-05 18:40:37,048): cpg/BS27_3_SER\r\n",
      "INFO (2017-03-05 18:40:37,051): cpg/BS27_5_SER\r\n",
      "INFO (2017-03-05 18:40:37,055): cpg/BS27_6_SER\r\n",
      "INFO (2017-03-05 18:40:37,059): cpg/BS27_8_SER\r\n",
      "INFO (2017-03-05 18:40:37,062): Done!\r\n"
     ]
    }
   ],
   "source": [
    "cmd=\"dcpg_eval_export.py\n",
    "    $eval_dir/data.h5\n",
    "    -o $eval_dir/hdf\n",
    "    -f hdf\n",
    "\"\n",
    "eval $cmd"
   ]
  },
  {
   "cell_type": "code",
   "execution_count": 19,
   "metadata": {
    "collapsed": false,
    "deletable": true,
    "editable": true
   },
   "outputs": [
    {
     "name": "stdout",
     "output_type": "stream",
     "text": [
      "BS27_1_SER.h5 BS27_3_SER.h5 BS27_5_SER.h5 BS27_6_SER.h5 BS27_8_SER.h5\r\n"
     ]
    }
   ],
   "source": [
    "ls $eval_dir/hdf"
   ]
  },
  {
   "cell_type": "markdown",
   "metadata": {
    "deletable": true,
    "editable": true
   },
   "source": [
    "You can use `-f bedGraph` to export profiles to gzip-compressed bedGraph files, which, however, takes longer."
   ]
  }
 ],
 "metadata": {
  "kernelspec": {
   "display_name": "Bash",
   "language": "bash",
   "name": "bash"
  },
  "language_info": {
   "codemirror_mode": "shell",
   "file_extension": ".sh",
   "mimetype": "text/x-sh",
   "name": "bash"
  }
 },
 "nbformat": 4,
 "nbformat_minor": 1
}
